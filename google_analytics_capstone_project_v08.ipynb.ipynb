{
 "cells": [
  {
   "cell_type": "markdown",
   "id": "f8a2a12d",
   "metadata": {},
   "source": [
    "# Google Data Analytics Capstone Project\n",
    "#\n",
    "### Case Study: Cyclistic Bike Share Company\n",
    "#\n",
    "#### This notebook presents a comprehensive analysis for the Cyclistic bike-share company in Chicago.\n",
    "#### The core business task is to understand how annual members and casual riders use Cyclistic bikes differently.\n",
    "#### The director of marketing, Lily Moreno, believes that maximizing the number of annual memberships is key to the company's future success.\n",
    "#### Therefore, this analysis aims to identify trends in bike usage between casual riders (customers who purchase single-ride or full-day passes)\n",
    "#### and annual members (customers who purchase annual memberships)\n",
    "#### The ultimate goal is to leverage these insights to design a new marketing strategy specifically\n",
    "#### aimed at converting casual riders into annual members.\n",
    "#### The recommendations derived from this analysis will need to be backed by compelling data insights\n",
    "#### and professional data visualizations for approval by Cyclistic executives."
   ]
  },
  {
   "cell_type": "code",
   "execution_count": 1,
   "id": "371267de",
   "metadata": {},
   "outputs": [],
   "source": [
    "\n",
    "\n",
    "# ---\n",
    "# ### 1. Import Libraries\n",
    "# ---\n",
    "\n",
    "import pandas as pd\n",
    "import numpy as np\n",
    "import matplotlib.pyplot as plt\n",
    "import matplotlib.ticker as mticker\n",
    "from datetime import datetime as dt\n",
    "import plotly.graph_objects as go\n",
    "import os # For path handling and checking file existence\n",
    "import seaborn as sns"
   ]
  },
  {
   "cell_type": "code",
   "execution_count": 2,
   "id": "35d44e7b",
   "metadata": {},
   "outputs": [
    {
     "name": "stdout",
     "output_type": "stream",
     "text": [
      "Loading Divvy_Trips_2019_Q1.csv...\n",
      "Loaded Q1 with 365069 rows.\n",
      "Loading Divvy_Trips_2019_Q2.csv...\n",
      "Loaded Q2 with 1108163 rows.\n",
      "Loading Divvy_Trips_2019_Q3.csv...\n",
      "Loaded Q3 with 1640718 rows.\n",
      "Loading Divvy_Trips_2019_Q4.csv...\n",
      "Loaded Q4 with 704054 rows.\n"
     ]
    }
   ],
   "source": [
    "# ---\n",
    "# ### 2. Load Data\n",
    "# ---\n",
    "\n",
    "# Define a function to load data and handle potential file not found errors\n",
    "def load_quarterly_data(base_path=\".\"):\n",
    "    \"\"\"\n",
    "    Loads quarterly bike trip data for 2019 from specified CSV files.\n",
    "\n",
    "    Args:\n",
    "        base_path (str): The directory where the CSV files are located.\n",
    "\n",
    "    Returns:\n",
    "        dict: A dictionary where keys are quarter names (e.g., 'Q1') and values\n",
    "              are pandas DataFrames containing the loaded data.\n",
    "    Raises:\n",
    "        FileNotFoundError: If any of the expected CSV files are not found.\n",
    "    \"\"\"\n",
    "    quarter_files = {\n",
    "        'Q1': \"Divvy_Trips_2019_Q1.csv\",\n",
    "        'Q2': \"Divvy_Trips_2019_Q2.csv\",\n",
    "        'Q3': \"Divvy_Trips_2019_Q3.csv\",\n",
    "        'Q4': \"Divvy_Trips_2019_Q4.csv\"\n",
    "    }\n",
    "    \n",
    "    quarterly_dfs = {}\n",
    "    for quarter, filename in quarter_files.items():\n",
    "        file_path = os.path.join(base_path, filename)\n",
    "        if not os.path.exists(file_path):\n",
    "            raise FileNotFoundError(f\"Error: {filename} not found at {base_path}. Please check the file path.\")\n",
    "        print(f\"Loading {filename}...\")\n",
    "        quarterly_dfs[quarter] = pd.read_csv(file_path)\n",
    "        print(f\"Loaded {quarter} with {len(quarterly_dfs[quarter])} rows.\")\n",
    "        \n",
    "    return quarterly_dfs\n",
    "\n",
    "try:\n",
    "    quarterly_trip_data = load_quarterly_data()\n",
    "    # Access individual DataFrames using dictionary keys\n",
    "    df_q1 = quarterly_trip_data['Q1']\n",
    "    df_q2 = quarterly_trip_data['Q2']\n",
    "    df_q3 = quarterly_trip_data['Q3']\n",
    "    df_q4 = quarterly_trip_data['Q4']\n",
    "except FileNotFoundError as e:\n",
    "    print(e)\n",
    "    # Exit or handle the error gracefully, e.g., by creating empty DataFrames\n",
    "    df_q1, df_q2, df_q3, df_q4 = pd.DataFrame(), pd.DataFrame(), pd.DataFrame(), pd.DataFrame()\n"
   ]
  },
  {
   "cell_type": "code",
   "execution_count": 3,
   "id": "60737660",
   "metadata": {},
   "outputs": [
    {
     "name": "stdout",
     "output_type": "stream",
     "text": [
      "\n",
      "--- Initial DataFrame Information ---\n",
      "\n",
      "DataFrame: Q1\n",
      "<class 'pandas.core.frame.DataFrame'>\n",
      "RangeIndex: 365069 entries, 0 to 365068\n",
      "Data columns (total 12 columns):\n",
      " #   Column             Non-Null Count   Dtype  \n",
      "---  ------             --------------   -----  \n",
      " 0   trip_id            365069 non-null  int64  \n",
      " 1   start_time         365069 non-null  object \n",
      " 2   end_time           365069 non-null  object \n",
      " 3   bikeid             365069 non-null  int64  \n",
      " 4   tripduration       365069 non-null  object \n",
      " 5   from_station_id    365069 non-null  int64  \n",
      " 6   from_station_name  365069 non-null  object \n",
      " 7   to_station_id      365069 non-null  int64  \n",
      " 8   to_station_name    365069 non-null  object \n",
      " 9   usertype           365069 non-null  object \n",
      " 10  gender             345358 non-null  object \n",
      " 11  birthyear          347046 non-null  float64\n",
      "dtypes: float64(1), int64(4), object(7)\n",
      "memory usage: 33.4+ MB\n",
      "\n",
      "DataFrame: Q2\n",
      "<class 'pandas.core.frame.DataFrame'>\n",
      "RangeIndex: 1108163 entries, 0 to 1108162\n",
      "Data columns (total 12 columns):\n",
      " #   Column                                            Non-Null Count    Dtype  \n",
      "---  ------                                            --------------    -----  \n",
      " 0   01 - Rental Details Rental ID                     1108163 non-null  int64  \n",
      " 1   01 - Rental Details Local Start Time              1108163 non-null  object \n",
      " 2   01 - Rental Details Local End Time                1108163 non-null  object \n",
      " 3   01 - Rental Details Bike ID                       1108163 non-null  int64  \n",
      " 4   01 - Rental Details Duration In Seconds Uncapped  1108163 non-null  object \n",
      " 5   03 - Rental Start Station ID                      1108163 non-null  int64  \n",
      " 6   03 - Rental Start Station Name                    1108163 non-null  object \n",
      " 7   02 - Rental End Station ID                        1108163 non-null  int64  \n",
      " 8   02 - Rental End Station Name                      1108163 non-null  object \n",
      " 9   User Type                                         1108163 non-null  object \n",
      " 10  Member Gender                                     922609 non-null   object \n",
      " 11  05 - Member Details Member Birthday Year          927210 non-null   float64\n",
      "dtypes: float64(1), int64(4), object(7)\n",
      "memory usage: 101.5+ MB\n",
      "\n",
      "DataFrame: Q3\n",
      "<class 'pandas.core.frame.DataFrame'>\n",
      "RangeIndex: 1640718 entries, 0 to 1640717\n",
      "Data columns (total 12 columns):\n",
      " #   Column             Non-Null Count    Dtype  \n",
      "---  ------             --------------    -----  \n",
      " 0   trip_id            1640718 non-null  int64  \n",
      " 1   start_time         1640718 non-null  object \n",
      " 2   end_time           1640718 non-null  object \n",
      " 3   bikeid             1640718 non-null  int64  \n",
      " 4   tripduration       1640718 non-null  object \n",
      " 5   from_station_id    1640718 non-null  int64  \n",
      " 6   from_station_name  1640718 non-null  object \n",
      " 7   to_station_id      1640718 non-null  int64  \n",
      " 8   to_station_name    1640718 non-null  object \n",
      " 9   usertype           1640718 non-null  object \n",
      " 10  gender             1353368 non-null  object \n",
      " 11  birthyear          1362624 non-null  float64\n",
      "dtypes: float64(1), int64(4), object(7)\n",
      "memory usage: 150.2+ MB\n",
      "\n",
      "DataFrame: Q4\n",
      "<class 'pandas.core.frame.DataFrame'>\n",
      "RangeIndex: 704054 entries, 0 to 704053\n",
      "Data columns (total 12 columns):\n",
      " #   Column             Non-Null Count   Dtype  \n",
      "---  ------             --------------   -----  \n",
      " 0   trip_id            704054 non-null  int64  \n",
      " 1   start_time         704054 non-null  object \n",
      " 2   end_time           704054 non-null  object \n",
      " 3   bikeid             704054 non-null  int64  \n",
      " 4   tripduration       704054 non-null  object \n",
      " 5   from_station_id    704054 non-null  int64  \n",
      " 6   from_station_name  704054 non-null  object \n",
      " 7   to_station_id      704054 non-null  int64  \n",
      " 8   to_station_name    704054 non-null  object \n",
      " 9   usertype           704054 non-null  object \n",
      " 10  gender             637463 non-null  object \n",
      " 11  birthyear          642373 non-null  float64\n",
      "dtypes: float64(1), int64(4), object(7)\n",
      "memory usage: 64.5+ MB\n"
     ]
    }
   ],
   "source": [
    "# ---\n",
    "# ### 3. Initial Data Inspection and Pre-Merge Cleaning\n",
    "# ---\n",
    "\n",
    "print(\"\\n--- Initial DataFrame Information ---\")\n",
    "for q_name, df in quarterly_trip_data.items():\n",
    "    print(f\"\\nDataFrame: {q_name}\")\n",
    "    df.info()"
   ]
  },
  {
   "cell_type": "markdown",
   "id": "2655d989",
   "metadata": {},
   "source": [
    "# Identify and fix column name inconsistencies\n",
    "# Observation: df_q2 has different column names ('01 - Rental Details Rental ID', etc.)"
   ]
  },
  {
   "cell_type": "code",
   "execution_count": 4,
   "id": "46c0ac43",
   "metadata": {},
   "outputs": [
    {
     "name": "stdout",
     "output_type": "stream",
     "text": [
      "\n",
      "Column names in df_q2 standardized to match df_q1.\n",
      "    trip_id           start_time             end_time  bikeid tripduration  \\\n",
      "0  22178529  2019-04-01 00:02:22  2019-04-01 00:09:48    6251        446.0   \n",
      "1  22178530  2019-04-01 00:03:02  2019-04-01 00:20:30    6226      1,048.0   \n",
      "2  22178531  2019-04-01 00:11:07  2019-04-01 00:15:19    5649        252.0   \n",
      "3  22178532  2019-04-01 00:13:01  2019-04-01 00:18:58    4151        357.0   \n",
      "4  22178533  2019-04-01 00:19:26  2019-04-01 00:36:13    3270      1,007.0   \n",
      "\n",
      "   from_station_id          from_station_name  to_station_id  \\\n",
      "0               81         Daley Center Plaza             56   \n",
      "1              317        Wood St & Taylor St             59   \n",
      "2              283  LaSalle St & Jackson Blvd            174   \n",
      "3               26   McClurg Ct & Illinois St            133   \n",
      "4              202       Halsted St & 18th St            129   \n",
      "\n",
      "             to_station_name    usertype  gender  birthyear  \n",
      "0  Desplaines St & Kinzie St  Subscriber    Male     1975.0  \n",
      "1  Wabash Ave & Roosevelt Rd  Subscriber  Female     1984.0  \n",
      "2      Canal St & Madison St  Subscriber    Male     1990.0  \n",
      "3   Kingsbury St & Kinzie St  Subscriber    Male     1993.0  \n",
      "4  Blue Island Ave & 18th St  Subscriber    Male     1992.0  \n"
     ]
    }
   ],
   "source": [
    "\n",
    "# compared to the other three files. We need to standardize them.\n",
    "if not df_q1.empty and not df_q2.empty: # Ensure DataFrames are not empty before processing\n",
    "    standard_cols = df_q1.columns.tolist()\n",
    "    q2_cols = df_q2.columns.tolist()\n",
    "\n",
    "    # Create a mapping dictionary if columns are different\n",
    "    if standard_cols != q2_cols:\n",
    "        col_mapping = {old_col: new_col for old_col, new_col in zip(q2_cols, standard_cols)}\n",
    "        df_q2.rename(columns=col_mapping, inplace=True)\n",
    "        print(\"\\nColumn names in df_q2 standardized to match df_q1.\")\n",
    "        # Verify renaming\n",
    "        print(df_q2.head())\n",
    "    else:\n",
    "        print(\"\\nColumn names for df_q2 are already consistent.\")\n",
    "else:\n",
    "    print(\"\\nSkipping column standardization due to empty DataFrames.\")"
   ]
  },
  {
   "cell_type": "code",
   "execution_count": 5,
   "id": "e8a3e220",
   "metadata": {},
   "outputs": [
    {
     "name": "stdout",
     "output_type": "stream",
     "text": [
      "\n",
      "--- Null Value Counts Before Merging ---\n",
      "\n",
      "Q1:\n",
      "trip_id                  0\n",
      "start_time               0\n",
      "end_time                 0\n",
      "bikeid                   0\n",
      "tripduration             0\n",
      "from_station_id          0\n",
      "from_station_name        0\n",
      "to_station_id            0\n",
      "to_station_name          0\n",
      "usertype                 0\n",
      "gender               19711\n",
      "birthyear            18023\n",
      "dtype: int64\n",
      "\n",
      "Q2:\n",
      "trip_id                   0\n",
      "start_time                0\n",
      "end_time                  0\n",
      "bikeid                    0\n",
      "tripduration              0\n",
      "from_station_id           0\n",
      "from_station_name         0\n",
      "to_station_id             0\n",
      "to_station_name           0\n",
      "usertype                  0\n",
      "gender               185554\n",
      "birthyear            180953\n",
      "dtype: int64\n",
      "\n",
      "Q3:\n",
      "trip_id                   0\n",
      "start_time                0\n",
      "end_time                  0\n",
      "bikeid                    0\n",
      "tripduration              0\n",
      "from_station_id           0\n",
      "from_station_name         0\n",
      "to_station_id             0\n",
      "to_station_name           0\n",
      "usertype                  0\n",
      "gender               287350\n",
      "birthyear            278094\n",
      "dtype: int64\n",
      "\n",
      "Q4:\n",
      "trip_id                  0\n",
      "start_time               0\n",
      "end_time                 0\n",
      "bikeid                   0\n",
      "tripduration             0\n",
      "from_station_id          0\n",
      "from_station_name        0\n",
      "to_station_id            0\n",
      "to_station_name          0\n",
      "usertype                 0\n",
      "gender               66591\n",
      "birthyear            61681\n",
      "dtype: int64\n"
     ]
    }
   ],
   "source": [
    "# Check for null values across all DataFrames before merging\n",
    "print(\"\\n--- Null Value Counts Before Merging ---\")\n",
    "for q_name, df in quarterly_trip_data.items():\n",
    "    if not df.empty:\n",
    "        print(f\"\\n{q_name}:\\n{df.isnull().sum()}\")\n",
    "    else:\n",
    "        print(f\"\\n{q_name}: DataFrame is empty, skipping null check.\")"
   ]
  },
  {
   "cell_type": "markdown",
   "id": "d0c5613f",
   "metadata": {},
   "source": [
    "# Observation: 'gender' and 'birthyear' columns have null values.\n",
    "# We will handle these missing values after merging for consistency.\n"
   ]
  },
  {
   "cell_type": "code",
   "execution_count": 6,
   "id": "981f434b",
   "metadata": {},
   "outputs": [
    {
     "name": "stdout",
     "output_type": "stream",
     "text": [
      "\n",
      "Total rows after merging: 3818004\n",
      "Sum of individual DataFrame rows: 3818004\n",
      "Row count after merging matches sum of individual DataFrames.\n",
      "Rows after dropping duplicates: 3818004\n",
      "Number of duplicate rows removed: 0\n"
     ]
    }
   ],
   "source": [
    "# ---\n",
    "# ### 4. Merge Quarterly Data\n",
    "# ---\n",
    "\n",
    "if all(not df.empty for df in quarterly_trip_data.values()):\n",
    "    # Concatenate all quarterly DataFrames into a single DataFrame for 2019\n",
    "    # 'ignore_index=True' resets the index of the combined DataFrame, preventing duplicates.\n",
    "    bike_trips_df = pd.concat(list(quarterly_trip_data.values()), ignore_index=True)\n",
    "    print(f\"\\nTotal rows after merging: {len(bike_trips_df)}\")\n",
    "\n",
    "    # Verify total rows by summing individual DataFrame lengths\n",
    "    total_rows_sum = sum(len(df) for df in quarterly_trip_data.values())\n",
    "    print(f\"Sum of individual DataFrame rows: {total_rows_sum}\")\n",
    "    if len(bike_trips_df) == total_rows_sum:\n",
    "        print(\"Row count after merging matches sum of individual DataFrames.\")\n",
    "    else:\n",
    "        print(\"Warning: Row count mismatch after merging.\")\n",
    "\n",
    "    # Drop duplicate rows from the merged DataFrame\n",
    "    initial_rows = len(bike_trips_df)\n",
    "    bike_trips_df.drop_duplicates(inplace=True)\n",
    "    rows_after_duplicates = len(bike_trips_df)\n",
    "    print(f\"Rows after dropping duplicates: {rows_after_duplicates}\")\n",
    "    print(f\"Number of duplicate rows removed: {initial_rows - rows_after_duplicates}\")"
   ]
  },
  {
   "cell_type": "code",
   "execution_count": 7,
   "id": "3586f3d9",
   "metadata": {},
   "outputs": [
    {
     "name": "stdout",
     "output_type": "stream",
     "text": [
      "Rows after dropping rows with NaN values: 3258796\n",
      "Number of rows removed due to NaN values: 559208\n",
      "\n",
      "Null values remaining after cleaning:\n",
      "trip_id              0\n",
      "start_time           0\n",
      "end_time             0\n",
      "bikeid               0\n",
      "tripduration         0\n",
      "from_station_id      0\n",
      "from_station_name    0\n",
      "to_station_id        0\n",
      "to_station_name      0\n",
      "usertype             0\n",
      "gender               0\n",
      "birthyear            0\n",
      "dtype: int64\n"
     ]
    }
   ],
   "source": [
    "# ---\n",
    "# ### 5. Handle Missing Values\n",
    "# ---\n",
    "\n",
    "# Drop rows containing any NaN values.\n",
    "# From initial inspection, these are primarily in 'gender' and 'birthyear'.\n",
    "initial_rows_before_dropna = len(bike_trips_df)\n",
    "bike_trips_df.dropna(inplace=True)\n",
    "rows_after_dropna = len(bike_trips_df)\n",
    "print(f\"Rows after dropping rows with NaN values: {rows_after_dropna}\")\n",
    "print(f\"Number of rows removed due to NaN values: {initial_rows_before_dropna - rows_after_dropna}\")\n",
    "\n",
    "# Verify no remaining NaN values\n",
    "print(\"\\nNull values remaining after cleaning:\")\n",
    "print(bike_trips_df.isnull().sum())"
   ]
  },
  {
   "cell_type": "code",
   "execution_count": 8,
   "id": "1f362639",
   "metadata": {},
   "outputs": [
    {
     "name": "stdout",
     "output_type": "stream",
     "text": [
      "Maximum age: 260.0\n",
      "Minimum age: 5.0\n"
     ]
    }
   ],
   "source": [
    "# --- 6. Clean Birth Year Data and Calculate Age ---\n",
    "\n",
    "# Calculate rider's age as of 2019\n",
    "bike_trips_df['age'] = 2019 - bike_trips_df['birthyear']\n",
    "\n",
    "# Check for unrealistic ages\n",
    "print(f\"Maximum age: {bike_trips_df['age'].max()}\")\n",
    "print(f\"Minimum age: {bike_trips_df['age'].min()}\")"
   ]
  },
  {
   "cell_type": "markdown",
   "id": "4802d6ba",
   "metadata": {},
   "source": [
    "#### While analyzing the birthyear column and calculating the rider's ages as of 2019, it was observed that:\n",
    "##### The maximum age was 260 years, and\n",
    "##### The minimum age was 5 years.\n",
    "##### These values are clearly unrealistic and likely due to data entry errors or their is problem in software.\n",
    "##### To ensure meaningful analysis and reflect practical usage, we assume a realistic age \n",
    "##### range for bike-share riders to be between 18 and 60 years old, based on physical ability, safety, and standard policy norms.\n",
    "##### Therefore, we will filter the dataset to include only riders within this age range."
   ]
  },
  {
   "cell_type": "code",
   "execution_count": 9,
   "id": "160e9184",
   "metadata": {},
   "outputs": [
    {
     "name": "stdout",
     "output_type": "stream",
     "text": [
      "Data rows befor filtering: 3258796\n",
      "Data retained after filtering for age 18–60: 3158172 rows\n"
     ]
    }
   ],
   "source": [
    "# Filter out unrealistic ages (outside 18–60 range)\n",
    "initial_rows_befor_age =  len(bike_trips_df)\n",
    "bike_trips_df = bike_trips_df[(bike_trips_df['age'] >= 18) & (bike_trips_df['age'] <= 60)]\n",
    "print(f\"Data rows befor filtering: {initial_rows_befor_age}\")\n",
    "print(f\"Data retained after filtering for age 18–60: {len(bike_trips_df)} rows\")"
   ]
  },
  {
   "cell_type": "code",
   "execution_count": 10,
   "id": "640bf9d8",
   "metadata": {},
   "outputs": [
    {
     "data": {
      "text/plain": [
       "array([8])"
      ]
     },
     "execution_count": 10,
     "metadata": {},
     "output_type": "execute_result"
    }
   ],
   "source": [
    "# checking trip_id column as we are going to use it a lot\n",
    "\n",
    "bike_trips_df['trip_id'].apply(lambda x : len(str(x))).unique()"
   ]
  },
  {
   "cell_type": "code",
   "execution_count": 11,
   "id": "16a3d299",
   "metadata": {},
   "outputs": [
    {
     "name": "stdout",
     "output_type": "stream",
     "text": [
      "\n",
      "--- Data Type Conversion and Feature Engineering ---\n",
      "\n",
      "'start_time' and 'end_time' columns converted to datetime.\n",
      "<class 'pandas.core.frame.DataFrame'>\n",
      "Index: 3158172 entries, 0 to 3818003\n",
      "Data columns (total 13 columns):\n",
      " #   Column             Dtype         \n",
      "---  ------             -----         \n",
      " 0   trip_id            int64         \n",
      " 1   start_time         datetime64[ns]\n",
      " 2   end_time           datetime64[ns]\n",
      " 3   bikeid             int64         \n",
      " 4   tripduration       object        \n",
      " 5   from_station_id    int64         \n",
      " 6   from_station_name  object        \n",
      " 7   to_station_id      int64         \n",
      " 8   to_station_name    object        \n",
      " 9   usertype           object        \n",
      " 10  gender             object        \n",
      " 11  birthyear          float64       \n",
      " 12  age                float64       \n",
      "dtypes: datetime64[ns](2), float64(2), int64(4), object(5)\n",
      "memory usage: 337.3+ MB\n"
     ]
    }
   ],
   "source": [
    "# ---\n",
    "# ### 7. Data Type Conversion and Feature Engineering\n",
    "# ---\n",
    "\n",
    "print(\"\\n--- Data Type Conversion and Feature Engineering ---\")\n",
    "\n",
    "# Convert 'start_time' and 'end_time' columns to datetime objects\n",
    "bike_trips_df['start_time'] = pd.to_datetime(bike_trips_df['start_time'])\n",
    "bike_trips_df['end_time'] = pd.to_datetime(bike_trips_df['end_time'])\n",
    "print(\"\\n'start_time' and 'end_time' columns converted to datetime.\")\n",
    "bike_trips_df.info()"
   ]
  },
  {
   "cell_type": "code",
   "execution_count": 12,
   "id": "a3391ee2",
   "metadata": {},
   "outputs": [],
   "source": [
    "# Calculate 'ride_length_minutes' and filter invalid rides\n",
    "# Ride length is the duration of the trip from start to end time, in minutes.\n",
    "bike_trips_df['ride_length_minutes'] = ((bike_trips_df['end_time'] - bike_trips_df['start_time']).dt.total_seconds() / 60).round(1)"
   ]
  },
  {
   "cell_type": "code",
   "execution_count": 13,
   "id": "d83d90bc",
   "metadata": {},
   "outputs": [
    {
     "name": "stdout",
     "output_type": "stream",
     "text": [
      "Number of rides filtered out (ride_length <= 0): 8\n",
      "Total valid rides for analysis: 3158164\n",
      "\n",
      "First 5 rows with new 'ride_length_minutes' column:\n",
      "           start_time            end_time  ride_length_minutes\n",
      "0 2019-01-01 00:04:37 2019-01-01 00:11:07                  6.5\n",
      "1 2019-01-01 00:08:13 2019-01-01 00:15:34                  7.4\n",
      "2 2019-01-01 00:13:23 2019-01-01 00:27:12                 13.8\n",
      "3 2019-01-01 00:13:45 2019-01-01 00:43:28                 29.7\n",
      "4 2019-01-01 00:14:52 2019-01-01 00:20:56                  6.1\n"
     ]
    }
   ],
   "source": [
    "# Filter out rides with negative or zero ride length, as these are invalid data points\n",
    "initial_valid_rides = len(bike_trips_df)\n",
    "bike_trips_df = bike_trips_df[bike_trips_df['ride_length_minutes'] > 0]\n",
    "print(f\"Number of rides filtered out (ride_length <= 0): {initial_valid_rides - len(bike_trips_df)}\")\n",
    "print(f\"Total valid rides for analysis: {len(bike_trips_df)}\")\n",
    "print(\"\\nFirst 5 rows with new 'ride_length_minutes' column:\")\n",
    "print(bike_trips_df[['start_time', 'end_time', 'ride_length_minutes']].head())"
   ]
  },
  {
   "cell_type": "code",
   "execution_count": 14,
   "id": "6c8c124a",
   "metadata": {},
   "outputs": [
    {
     "name": "stdout",
     "output_type": "stream",
     "text": [
      "Number of rides filtered out (ride_length > 24 hours): 862\n",
      "Total valid rides for analysis: 3157302\n",
      "\n",
      "First 5 rows with new 'ride_length_minutes' column:\n",
      "           start_time            end_time  ride_length_minutes\n",
      "0 2019-01-01 00:04:37 2019-01-01 00:11:07                  6.5\n",
      "1 2019-01-01 00:08:13 2019-01-01 00:15:34                  7.4\n",
      "2 2019-01-01 00:13:23 2019-01-01 00:27:12                 13.8\n",
      "3 2019-01-01 00:13:45 2019-01-01 00:43:28                 29.7\n",
      "4 2019-01-01 00:14:52 2019-01-01 00:20:56                  6.1\n"
     ]
    }
   ],
   "source": [
    "# Filter out rides with greater than 24 hours, as these are invalid data points\n",
    "initial_valid_rides = len(bike_trips_df)\n",
    "bike_trips_df = bike_trips_df[bike_trips_df['ride_length_minutes'] < 1440]\n",
    "print(f\"Number of rides filtered out (ride_length > 24 hours): {initial_valid_rides - len(bike_trips_df)}\")\n",
    "print(f\"Total valid rides for analysis: {len(bike_trips_df)}\")\n",
    "print(\"\\nFirst 5 rows with new 'ride_length_minutes' column:\")\n",
    "print(bike_trips_df[['start_time', 'end_time', 'ride_length_minutes']].head())\n"
   ]
  },
  {
   "cell_type": "code",
   "execution_count": 15,
   "id": "1b3382ad",
   "metadata": {},
   "outputs": [
    {
     "data": {
      "text/plain": [
       "<Axes: ylabel='ride_length_minutes'>"
      ]
     },
     "execution_count": 15,
     "metadata": {},
     "output_type": "execute_result"
    },
    {
     "data": {
      "image/png": "[encoded data removed]",
      "text/plain": [
       "<Figure size 640x480 with 1 Axes>"
      ]
     },
     "metadata": {},
     "output_type": "display_data"
    }
   ],
   "source": [
    "sns.boxplot(bike_trips_df['ride_length_minutes'])"
   ]
  },
  {
   "cell_type": "markdown",
   "id": "e7738a9b",
   "metadata": {},
   "source": [
    "### Outlier Removal and Impact on Ride Duration Analysis\n",
    "\n",
    "#### Initial box plot analysis revealed extreme outliers in the `ride_length_minutes` column, with some ride times exceeding 1,000 minutes. These skewed the average and made visual interpretation difficult.\n",
    "\n",
    "#### Using the IQR (Interquartile Range) method, we removed outliers beyond 1.5 times the IQR. \n"
   ]
  },
  {
   "cell_type": "code",
   "execution_count": 16,
   "id": "94f80b21",
   "metadata": {},
   "outputs": [
    {
     "name": "stdout",
     "output_type": "stream",
     "text": [
      "Number of outliers: 179587\n",
      "Total valid rides for analysis: 2977715\n",
      "\n",
      "First 5 rows with new 'ride_length_minutes' column:\n",
      "           start_time            end_time  ride_length_minutes\n",
      "0 2019-01-01 00:04:37 2019-01-01 00:11:07                  6.5\n",
      "1 2019-01-01 00:08:13 2019-01-01 00:15:34                  7.4\n",
      "2 2019-01-01 00:13:23 2019-01-01 00:27:12                 13.8\n",
      "3 2019-01-01 00:13:45 2019-01-01 00:43:28                 29.7\n",
      "4 2019-01-01 00:14:52 2019-01-01 00:20:56                  6.1\n"
     ]
    }
   ],
   "source": [
    "Q1 = bike_trips_df['ride_length_minutes'].quantile(0.25)\n",
    "Q3 = bike_trips_df['ride_length_minutes'].quantile(0.75)\n",
    "IQR = Q3 - Q1\n",
    "\n",
    "# Define bounds\n",
    "lower_bound = Q1 - 1.5 * IQR\n",
    "upper_bound = Q3 + 1.5 * IQR\n",
    "\n",
    "#outer_total\n",
    "outliers = len(bike_trips_df)\n",
    "\n",
    "# Filter the data\n",
    "bike_trips_df = bike_trips_df[(bike_trips_df['ride_length_minutes'] >= lower_bound) & (bike_trips_df['ride_length_minutes'] <= upper_bound)]\n",
    "\n",
    "print(f\"Number of outliers: {outliers - len(bike_trips_df)}\")\n",
    "print(f\"Total valid rides for analysis: {len(bike_trips_df)}\")\n",
    "print(\"\\nFirst 5 rows with new 'ride_length_minutes' column:\")\n",
    "print(bike_trips_df[['start_time', 'end_time', 'ride_length_minutes']].head())\n"
   ]
  },
  {
   "cell_type": "code",
   "execution_count": 17,
   "id": "9c6e86af",
   "metadata": {},
   "outputs": [
    {
     "data": {
      "text/plain": [
       "<Axes: ylabel='ride_length_minutes'>"
      ]
     },
     "execution_count": 17,
     "metadata": {},
     "output_type": "execute_result"
    },
    {
     "data": {
      "image/png": "[encoded data removed]",
      "text/plain": [
       "<Figure size 640x480 with 1 Axes>"
      ]
     },
     "metadata": {},
     "output_type": "display_data"
    }
   ],
   "source": [
    "sns.boxplot(bike_trips_df['ride_length_minutes'])"
   ]
  },
  {
   "cell_type": "markdown",
   "id": "c5997fcc",
   "metadata": {},
   "source": [
    "#### The updated box plot shows a more compact and realistic distribution of ride durations.\n",
    "\n",
    "#### This cleaned data better represents typical rider behavior and allows for more accurate comparisons between casual and member riders."
   ]
  },
  {
   "cell_type": "code",
   "execution_count": 18,
   "id": "0bd1634f",
   "metadata": {},
   "outputs": [
    {
     "name": "stdout",
     "output_type": "stream",
     "text": [
      "\n",
      "New time-based features ('day_of_week', 'month_name', 'start_hour') created.\n",
      "           start_time day_of_week month_name  start_hour\n",
      "0 2019-01-01 00:04:37     Tuesday    January           0\n",
      "1 2019-01-01 00:08:13     Tuesday    January           0\n",
      "2 2019-01-01 00:13:23     Tuesday    January           0\n",
      "3 2019-01-01 00:13:45     Tuesday    January           0\n",
      "4 2019-01-01 00:14:52     Tuesday    January           0\n"
     ]
    }
   ],
   "source": [
    "# Extract time-based features\n",
    "# 'day_of_week': Full name of the day (e.g., 'Monday')\n",
    "bike_trips_df['day_of_week'] = bike_trips_df['start_time'].dt.day_name()\n",
    "# 'month_name': Full name of the month (e.g., 'January')\n",
    "bike_trips_df['month_name'] = bike_trips_df['start_time'].dt.month_name()\n",
    "# 'start_hour': Hour of the day (0-23)\n",
    "bike_trips_df['start_hour'] = bike_trips_df['start_time'].dt.hour\n",
    "print(\"\\nNew time-based features ('day_of_week', 'month_name', 'start_hour') created.\")\n",
    "print(bike_trips_df[['start_time', 'day_of_week', 'month_name', 'start_hour']].head())"
   ]
  },
  {
   "cell_type": "code",
   "execution_count": 19,
   "id": "19c55252",
   "metadata": {},
   "outputs": [
    {
     "name": "stdout",
     "output_type": "stream",
     "text": [
      "\n",
      "--- Exploratory Data Analysis ---\n",
      "\n",
      "Distribution of User Types:\n",
      "usertype\n",
      "Subscriber    2735883\n",
      "Customer       241832\n",
      "Name: count, dtype: int64\n",
      "\n",
      "Distribution of Genders:\n",
      "gender\n",
      "Male      2211058\n",
      "Female     766657\n",
      "Name: count, dtype: int64\n",
      "\n",
      "Average Ride Length by User Type (minutes):\n",
      "usertype\n",
      "Customer      17.79\n",
      "Subscriber    11.53\n",
      "Name: ride_length_minutes, dtype: float64\n",
      "\n",
      "Average Ride Length by User Type and Day of Week (minutes):\n",
      "usertype    day_of_week\n",
      "Customer    Friday         17.36\n",
      "            Monday         17.46\n",
      "            Saturday       18.98\n",
      "            Sunday         18.61\n",
      "            Thursday       17.02\n",
      "            Tuesday        16.90\n",
      "            Wednesday      16.92\n",
      "Subscriber  Friday         11.27\n",
      "            Monday         11.40\n",
      "            Saturday       12.24\n",
      "            Sunday         12.11\n",
      "            Thursday       11.38\n",
      "            Tuesday        11.40\n",
      "            Wednesday      11.44\n",
      "Name: ride_length_minutes, dtype: float64\n",
      "\n",
      "Average Ride Length by User Type and Month (minutes):\n",
      "usertype    month_name\n",
      "Customer    April         18.64\n",
      "            August        18.12\n",
      "            December      15.21\n",
      "            February      13.69\n",
      "            January       14.72\n",
      "            July          18.67\n",
      "            June          18.49\n",
      "            March         17.08\n",
      "            May           18.73\n",
      "            November      14.36\n",
      "            October       16.16\n",
      "            September     17.17\n",
      "Subscriber  April         11.17\n",
      "            August        12.35\n",
      "            December      10.06\n",
      "            February       9.79\n",
      "            January        9.98\n",
      "            July          12.59\n",
      "            June          12.31\n",
      "            March         10.27\n",
      "            May           11.71\n",
      "            November      10.15\n",
      "            October       10.93\n",
      "            September     11.87\n",
      "Name: ride_length_minutes, dtype: float64\n"
     ]
    }
   ],
   "source": [
    "# ---\n",
    "# ### 8. Exploratory Data Analysis (EDA)\n",
    "# ---\n",
    "\n",
    "print(\"\\n--- Exploratory Data Analysis ---\")\n",
    "\n",
    "print(\"\\nDistribution of User Types:\")\n",
    "print(bike_trips_df['usertype'].value_counts())\n",
    "\n",
    "print(\"\\nDistribution of Genders:\")\n",
    "print(bike_trips_df['gender'].value_counts())\n",
    "\n",
    "print(\"\\nAverage Ride Length by User Type (minutes):\")\n",
    "avg_ride_len_by_user = bike_trips_df.groupby('usertype')['ride_length_minutes'].mean().round(2)\n",
    "print(avg_ride_len_by_user)\n",
    "\n",
    "print(\"\\nAverage Ride Length by User Type and Day of Week (minutes):\")\n",
    "avg_ride_len_by_user_day = bike_trips_df.groupby(['usertype', 'day_of_week'])['ride_length_minutes'].mean().round(2)\n",
    "print(avg_ride_len_by_user_day)\n",
    "\n",
    "print(\"\\nAverage Ride Length by User Type and Month (minutes):\")\n",
    "avg_ride_len_by_user_month = bike_trips_df.groupby(['usertype', 'month_name'])['ride_length_minutes'].mean().round(2)\n",
    "print(avg_ride_len_by_user_month)\n",
    "\n",
    "# print(\"\\nAverage Ride Length by User Type and Hour (minutes):\")\n",
    "# avg_ride_len_by_user_hour = bike_trips_df.groupby(['usertype', 'start_hour'])['ride_length_minutes'].mean().round(2)\n",
    "# print(avg_ride_len_by_user_hour)"
   ]
  },
  {
   "cell_type": "code",
   "execution_count": 20,
   "id": "636be46f",
   "metadata": {},
   "outputs": [
    {
     "name": "stdout",
     "output_type": "stream",
     "text": [
      "\n",
      "--- Data Visualization ---\n"
     ]
    },
    {
     "data": {
      "application/vnd.plotly.v1+json": {
       "config": {
        "plotlyServerURL": "https://plot.ly"
       },
       "data": [
        {
         "name": "Customer",
         "type": "bar",
         "x": [
          "Monday",
          "Tuesday",
          "Wednesday",
          "Thursday",
          "Friday",
          "Saturday",
          "Sunday"
         ],
         "y": {
          "bdata": "7m8AAAtqAABYbAAA6XYAAG6DAAA5yAAAx6cAAA==",
          "dtype": "i4"
         }
        },
        {
         "name": "Subscriber",
         "type": "bar",
         "x": [
          "Monday",
          "Tuesday",
          "Wednesday",
          "Thursday",
          "Friday",
          "Saturday",
          "Sunday"
         ],
         "y": {
          "bdata": "JosGAIIWBwCtDgcAyfAGAH2FBgAXAQQAWZcDAA==",
          "dtype": "i4"
         }
        }
       ],
       "layout": {
        "barmode": "group",
        "template": {
         "data": {
          "bar": [
           {
            "error_x": {
             "color": "#2a3f5f"
            },
            "error_y": {
             "color": "#2a3f5f"
            },
            "marker": {
             "line": {
              "color": "#E5ECF6",
              "width": 0.5
             },
             "pattern": {
              "fillmode": "overlay",
              "size": 10,
              "solidity": 0.2
             }
            },
            "type": "bar"
           }
          ],
          "barpolar": [
           {
            "marker": {
             "line": {
              "color": "#E5ECF6",
              "width": 0.5
             },
             "pattern": {
              "fillmode": "overlay",
              "size": 10,
              "solidity": 0.2
             }
            },
            "type": "barpolar"
           }
          ],
          "carpet": [
           {
            "aaxis": {
             "endlinecolor": "#2a3f5f",
             "gridcolor": "white",
             "linecolor": "white",
             "minorgridcolor": "white",
             "startlinecolor": "#2a3f5f"
            },
            "baxis": {
             "endlinecolor": "#2a3f5f",
             "gridcolor": "white",
             "linecolor": "white",
             "minorgridcolor": "white",
             "startlinecolor": "#2a3f5f"
            },
            "type": "carpet"
           }
          ],
          "choropleth": [
           {
            "colorbar": {
             "outlinewidth": 0,
             "ticks": ""
            },
            "type": "choropleth"
           }
          ],
          "contour": [
           {
            "colorbar": {
             "outlinewidth": 0,
             "ticks": ""
            },
            "colorscale": [
             [
              0,
              "#0d0887"
             ],
             [
              0.1111111111111111,
              "#46039f"
             ],
             [
              0.2222222222222222,
              "#7201a8"
             ],
             [
              0.3333333333333333,
              "#9c179e"
             ],
             [
              0.4444444444444444,
              "#bd3786"
             ],
             [
              0.5555555555555556,
              "#d8576b"
             ],
             [
              0.6666666666666666,
              "#ed7953"
             ],
             [
              0.7777777777777778,
              "#fb9f3a"
             ],
             [
              0.8888888888888888,
              "#fdca26"
             ],
             [
              1,
              "#f0f921"
             ]
            ],
            "type": "contour"
           }
          ],
          "contourcarpet": [
           {
            "colorbar": {
             "outlinewidth": 0,
             "ticks": ""
            },
            "type": "contourcarpet"
           }
          ],
          "heatmap": [
           {
            "colorbar": {
             "outlinewidth": 0,
             "ticks": ""
            },
            "colorscale": [
             [
              0,
              "#0d0887"
             ],
             [
              0.1111111111111111,
              "#46039f"
             ],
             [
              0.2222222222222222,
              "#7201a8"
             ],
             [
              0.3333333333333333,
              "#9c179e"
             ],
             [
              0.4444444444444444,
              "#bd3786"
             ],
             [
              0.5555555555555556,
              "#d8576b"
             ],
             [
              0.6666666666666666,
              "#ed7953"
             ],
             [
              0.7777777777777778,
              "#fb9f3a"
             ],
             [
              0.8888888888888888,
              "#fdca26"
             ],
             [
              1,
              "#f0f921"
             ]
            ],
            "type": "heatmap"
           }
          ],
          "histogram": [
           {
            "marker": {
             "pattern": {
              "fillmode": "overlay",
              "size": 10,
              "solidity": 0.2
             }
            },
            "type": "histogram"
           }
          ],
          "histogram2d": [
           {
            "colorbar": {
             "outlinewidth": 0,
             "ticks": ""
            },
            "colorscale": [
             [
              0,
              "#0d0887"
             ],
             [
              0.1111111111111111,
              "#46039f"
             ],
             [
              0.2222222222222222,
              "#7201a8"
             ],
             [
              0.3333333333333333,
              "#9c179e"
             ],
             [
              0.4444444444444444,
              "#bd3786"
             ],
             [
              0.5555555555555556,
              "#d8576b"
             ],
             [
              0.6666666666666666,
              "#ed7953"
             ],
             [
              0.7777777777777778,
              "#fb9f3a"
             ],
             [
              0.8888888888888888,
              "#fdca26"
             ],
             [
              1,
              "#f0f921"
             ]
            ],
            "type": "histogram2d"
           }
          ],
          "histogram2dcontour": [
           {
            "colorbar": {
             "outlinewidth": 0,
             "ticks": ""
            },
            "colorscale": [
             [
              0,
              "#0d0887"
             ],
             [
              0.1111111111111111,
              "#46039f"
             ],
             [
              0.2222222222222222,
              "#7201a8"
             ],
             [
              0.3333333333333333,
              "#9c179e"
             ],
             [
              0.4444444444444444,
              "#bd3786"
             ],
             [
              0.5555555555555556,
              "#d8576b"
             ],
             [
              0.6666666666666666,
              "#ed7953"
             ],
             [
              0.7777777777777778,
              "#fb9f3a"
             ],
             [
              0.8888888888888888,
              "#fdca26"
             ],
             [
              1,
              "#f0f921"
             ]
            ],
            "type": "histogram2dcontour"
           }
          ],
          "mesh3d": [
           {
            "colorbar": {
             "outlinewidth": 0,
             "ticks": ""
            },
            "type": "mesh3d"
           }
          ],
          "parcoords": [
           {
            "line": {
             "colorbar": {
              "outlinewidth": 0,
              "ticks": ""
             }
            },
            "type": "parcoords"
           }
          ],
          "pie": [
           {
            "automargin": true,
            "type": "pie"
           }
          ],
          "scatter": [
           {
            "fillpattern": {
             "fillmode": "overlay",
             "size": 10,
             "solidity": 0.2
            },
            "type": "scatter"
           }
          ],
          "scatter3d": [
           {
            "line": {
             "colorbar": {
              "outlinewidth": 0,
              "ticks": ""
             }
            },
            "marker": {
             "colorbar": {
              "outlinewidth": 0,
              "ticks": ""
             }
            },
            "type": "scatter3d"
           }
          ],
          "scattercarpet": [
           {
            "marker": {
             "colorbar": {
              "outlinewidth": 0,
              "ticks": ""
             }
            },
            "type": "scattercarpet"
           }
          ],
          "scattergeo": [
           {
            "marker": {
             "colorbar": {
              "outlinewidth": 0,
              "ticks": ""
             }
            },
            "type": "scattergeo"
           }
          ],
          "scattergl": [
           {
            "marker": {
             "colorbar": {
              "outlinewidth": 0,
              "ticks": ""
             }
            },
            "type": "scattergl"
           }
          ],
          "scattermap": [
           {
            "marker": {
             "colorbar": {
              "outlinewidth": 0,
              "ticks": ""
             }
            },
            "type": "scattermap"
           }
          ],
          "scattermapbox": [
           {
            "marker": {
             "colorbar": {
              "outlinewidth": 0,
              "ticks": ""
             }
            },
            "type": "scattermapbox"
           }
          ],
          "scatterpolar": [
           {
            "marker": {
             "colorbar": {
              "outlinewidth": 0,
              "ticks": ""
             }
            },
            "type": "scatterpolar"
           }
          ],
          "scatterpolargl": [
           {
            "marker": {
             "colorbar": {
              "outlinewidth": 0,
              "ticks": ""
             }
            },
            "type": "scatterpolargl"
           }
          ],
          "scatterternary": [
           {
            "marker": {
             "colorbar": {
              "outlinewidth": 0,
              "ticks": ""
             }
            },
            "type": "scatterternary"
           }
          ],
          "surface": [
           {
            "colorbar": {
             "outlinewidth": 0,
             "ticks": ""
            },
            "colorscale": [
             [
              0,
              "#0d0887"
             ],
             [
              0.1111111111111111,
              "#46039f"
             ],
             [
              0.2222222222222222,
              "#7201a8"
             ],
             [
              0.3333333333333333,
              "#9c179e"
             ],
             [
              0.4444444444444444,
              "#bd3786"
             ],
             [
              0.5555555555555556,
              "#d8576b"
             ],
             [
              0.6666666666666666,
              "#ed7953"
             ],
             [
              0.7777777777777778,
              "#fb9f3a"
             ],
             [
              0.8888888888888888,
              "#fdca26"
             ],
             [
              1,
              "#f0f921"
             ]
            ],
            "type": "surface"
           }
          ],
          "table": [
           {
            "cells": {
             "fill": {
              "color": "#EBF0F8"
             },
             "line": {
              "color": "white"
             }
            },
            "header": {
             "fill": {
              "color": "#C8D4E3"
             },
             "line": {
              "color": "white"
             }
            },
            "type": "table"
           }
          ]
         },
         "layout": {
          "annotationdefaults": {
           "arrowcolor": "#2a3f5f",
           "arrowhead": 0,
           "arrowwidth": 1
          },
          "autotypenumbers": "strict",
          "coloraxis": {
           "colorbar": {
            "outlinewidth": 0,
            "ticks": ""
           }
          },
          "colorscale": {
           "diverging": [
            [
             0,
             "#8e0152"
            ],
            [
             0.1,
             "#c51b7d"
            ],
            [
             0.2,
             "#de77ae"
            ],
            [
             0.3,
             "#f1b6da"
            ],
            [
             0.4,
             "#fde0ef"
            ],
            [
             0.5,
             "#f7f7f7"
            ],
            [
             0.6,
             "#e6f5d0"
            ],
            [
             0.7,
             "#b8e186"
            ],
            [
             0.8,
             "#7fbc41"
            ],
            [
             0.9,
             "#4d9221"
            ],
            [
             1,
             "#276419"
            ]
           ],
           "sequential": [
            [
             0,
             "#0d0887"
            ],
            [
             0.1111111111111111,
             "#46039f"
            ],
            [
             0.2222222222222222,
             "#7201a8"
            ],
            [
             0.3333333333333333,
             "#9c179e"
            ],
            [
             0.4444444444444444,
             "#bd3786"
            ],
            [
             0.5555555555555556,
             "#d8576b"
            ],
            [
             0.6666666666666666,
             "#ed7953"
            ],
            [
             0.7777777777777778,
             "#fb9f3a"
            ],
            [
             0.8888888888888888,
             "#fdca26"
            ],
            [
             1,
             "#f0f921"
            ]
           ],
           "sequentialminus": [
            [
             0,
             "#0d0887"
            ],
            [
             0.1111111111111111,
             "#46039f"
            ],
            [
             0.2222222222222222,
             "#7201a8"
            ],
            [
             0.3333333333333333,
             "#9c179e"
            ],
            [
             0.4444444444444444,
             "#bd3786"
            ],
            [
             0.5555555555555556,
             "#d8576b"
            ],
            [
             0.6666666666666666,
             "#ed7953"
            ],
            [
             0.7777777777777778,
             "#fb9f3a"
            ],
            [
             0.8888888888888888,
             "#fdca26"
            ],
            [
             1,
             "#f0f921"
            ]
           ]
          },
          "colorway": [
           "#636efa",
           "#EF553B",
           "#00cc96",
           "#ab63fa",
           "#FFA15A",
           "#19d3f3",
           "#FF6692",
           "#B6E880",
           "#FF97FF",
           "#FECB52"
          ],
          "font": {
           "color": "#2a3f5f"
          },
          "geo": {
           "bgcolor": "white",
           "lakecolor": "white",
           "landcolor": "#E5ECF6",
           "showlakes": true,
           "showland": true,
           "subunitcolor": "white"
          },
          "hoverlabel": {
           "align": "left"
          },
          "hovermode": "closest",
          "mapbox": {
           "style": "light"
          },
          "paper_bgcolor": "white",
          "plot_bgcolor": "#E5ECF6",
          "polar": {
           "angularaxis": {
            "gridcolor": "white",
            "linecolor": "white",
            "ticks": ""
           },
           "bgcolor": "#E5ECF6",
           "radialaxis": {
            "gridcolor": "white",
            "linecolor": "white",
            "ticks": ""
           }
          },
          "scene": {
           "xaxis": {
            "backgroundcolor": "#E5ECF6",
            "gridcolor": "white",
            "gridwidth": 2,
            "linecolor": "white",
            "showbackground": true,
            "ticks": "",
            "zerolinecolor": "white"
           },
           "yaxis": {
            "backgroundcolor": "#E5ECF6",
            "gridcolor": "white",
            "gridwidth": 2,
            "linecolor": "white",
            "showbackground": true,
            "ticks": "",
            "zerolinecolor": "white"
           },
           "zaxis": {
            "backgroundcolor": "#E5ECF6",
            "gridcolor": "white",
            "gridwidth": 2,
            "linecolor": "white",
            "showbackground": true,
            "ticks": "",
            "zerolinecolor": "white"
           }
          },
          "shapedefaults": {
           "line": {
            "color": "#2a3f5f"
           }
          },
          "ternary": {
           "aaxis": {
            "gridcolor": "white",
            "linecolor": "white",
            "ticks": ""
           },
           "baxis": {
            "gridcolor": "white",
            "linecolor": "white",
            "ticks": ""
           },
           "bgcolor": "#E5ECF6",
           "caxis": {
            "gridcolor": "white",
            "linecolor": "white",
            "ticks": ""
           }
          },
          "title": {
           "x": 0.05
          },
          "xaxis": {
           "automargin": true,
           "gridcolor": "white",
           "linecolor": "white",
           "ticks": "",
           "title": {
            "standoff": 15
           },
           "zerolinecolor": "white",
           "zerolinewidth": 2
          },
          "yaxis": {
           "automargin": true,
           "gridcolor": "white",
           "linecolor": "white",
           "ticks": "",
           "title": {
            "standoff": 15
           },
           "zerolinecolor": "white",
           "zerolinewidth": 2
          }
         }
        },
        "title": {
         "text": "Total Trips by Day of the Week and User Type"
        },
        "xaxis": {
         "categoryarray": [
          "Monday",
          "Tuesday",
          "Wednesday",
          "Thursday",
          "Friday",
          "Saturday",
          "Sunday"
         ],
         "categoryorder": "array",
         "title": {
          "text": "Day of the Week"
         }
        },
        "yaxis": {
         "title": {
          "text": "Total Trips"
         }
        }
       }
      }
     },
     "metadata": {},
     "output_type": "display_data"
    },
    {
     "data": {
      "application/vnd.plotly.v1+json": {
       "config": {
        "plotlyServerURL": "https://plot.ly"
       },
       "data": [
        {
         "name": "Customer",
         "type": "bar",
         "x": [
          "January",
          "February",
          "March",
          "April",
          "May",
          "June",
          "July",
          "August",
          "September",
          "October",
          "November",
          "December"
         ],
         "y": {
          "bdata": "nwMAAFsCAABuCwAAjSEAAAk9AAAJcwAAKMYAADzhAADDnQAAOlwAAHAZAADQEgAA",
          "dtype": "i4"
         }
        },
        {
         "name": "Subscriber",
         "type": "bar",
         "x": [
          "January",
          "February",
          "March",
          "April",
          "May",
          "June",
          "July",
          "August",
          "September",
          "October",
          "November",
          "December"
         ],
         "y": {
          "bdata": "AWcBALRTAQALIQIAABcDANwNBADO4gQAbGEFAPu2BQBQMAUAJVAEAFFHAgB0+wEA",
          "dtype": "i4"
         }
        }
       ],
       "layout": {
        "barmode": "group",
        "template": {
         "data": {
          "bar": [
           {
            "error_x": {
             "color": "#2a3f5f"
            },
            "error_y": {
             "color": "#2a3f5f"
            },
            "marker": {
             "line": {
              "color": "#E5ECF6",
              "width": 0.5
             },
             "pattern": {
              "fillmode": "overlay",
              "size": 10,
              "solidity": 0.2
             }
            },
            "type": "bar"
           }
          ],
          "barpolar": [
           {
            "marker": {
             "line": {
              "color": "#E5ECF6",
              "width": 0.5
             },
             "pattern": {
              "fillmode": "overlay",
              "size": 10,
              "solidity": 0.2
             }
            },
            "type": "barpolar"
           }
          ],
          "carpet": [
           {
            "aaxis": {
             "endlinecolor": "#2a3f5f",
             "gridcolor": "white",
             "linecolor": "white",
             "minorgridcolor": "white",
             "startlinecolor": "#2a3f5f"
            },
            "baxis": {
             "endlinecolor": "#2a3f5f",
             "gridcolor": "white",
             "linecolor": "white",
             "minorgridcolor": "white",
             "startlinecolor": "#2a3f5f"
            },
            "type": "carpet"
           }
          ],
          "choropleth": [
           {
            "colorbar": {
             "outlinewidth": 0,
             "ticks": ""
            },
            "type": "choropleth"
           }
          ],
          "contour": [
           {
            "colorbar": {
             "outlinewidth": 0,
             "ticks": ""
            },
            "colorscale": [
             [
              0,
              "#0d0887"
             ],
             [
              0.1111111111111111,
              "#46039f"
             ],
             [
              0.2222222222222222,
              "#7201a8"
             ],
             [
              0.3333333333333333,
              "#9c179e"
             ],
             [
              0.4444444444444444,
              "#bd3786"
             ],
             [
              0.5555555555555556,
              "#d8576b"
             ],
             [
              0.6666666666666666,
              "#ed7953"
             ],
             [
              0.7777777777777778,
              "#fb9f3a"
             ],
             [
              0.8888888888888888,
              "#fdca26"
             ],
             [
              1,
              "#f0f921"
             ]
            ],
            "type": "contour"
           }
          ],
          "contourcarpet": [
           {
            "colorbar": {
             "outlinewidth": 0,
             "ticks": ""
            },
            "type": "contourcarpet"
           }
          ],
          "heatmap": [
           {
            "colorbar": {
             "outlinewidth": 0,
             "ticks": ""
            },
            "colorscale": [
             [
              0,
              "#0d0887"
             ],
             [
              0.1111111111111111,
              "#46039f"
             ],
             [
              0.2222222222222222,
              "#7201a8"
             ],
             [
              0.3333333333333333,
              "#9c179e"
             ],
             [
              0.4444444444444444,
              "#bd3786"
             ],
             [
              0.5555555555555556,
              "#d8576b"
             ],
             [
              0.6666666666666666,
              "#ed7953"
             ],
             [
              0.7777777777777778,
              "#fb9f3a"
             ],
             [
              0.8888888888888888,
              "#fdca26"
             ],
             [
              1,
              "#f0f921"
             ]
            ],
            "type": "heatmap"
           }
          ],
          "histogram": [
           {
            "marker": {
             "pattern": {
              "fillmode": "overlay",
              "size": 10,
              "solidity": 0.2
             }
            },
            "type": "histogram"
           }
          ],
          "histogram2d": [
           {
            "colorbar": {
             "outlinewidth": 0,
             "ticks": ""
            },
            "colorscale": [
             [
              0,
              "#0d0887"
             ],
             [
              0.1111111111111111,
              "#46039f"
             ],
             [
              0.2222222222222222,
              "#7201a8"
             ],
             [
              0.3333333333333333,
              "#9c179e"
             ],
             [
              0.4444444444444444,
              "#bd3786"
             ],
             [
              0.5555555555555556,
              "#d8576b"
             ],
             [
              0.6666666666666666,
              "#ed7953"
             ],
             [
              0.7777777777777778,
              "#fb9f3a"
             ],
             [
              0.8888888888888888,
              "#fdca26"
             ],
             [
              1,
              "#f0f921"
             ]
            ],
            "type": "histogram2d"
           }
          ],
          "histogram2dcontour": [
           {
            "colorbar": {
             "outlinewidth": 0,
             "ticks": ""
            },
            "colorscale": [
             [
              0,
              "#0d0887"
             ],
             [
              0.1111111111111111,
              "#46039f"
             ],
             [
              0.2222222222222222,
              "#7201a8"
             ],
             [
              0.3333333333333333,
              "#9c179e"
             ],
             [
              0.4444444444444444,
              "#bd3786"
             ],
             [
              0.5555555555555556,
              "#d8576b"
             ],
             [
              0.6666666666666666,
              "#ed7953"
             ],
             [
              0.7777777777777778,
              "#fb9f3a"
             ],
             [
              0.8888888888888888,
              "#fdca26"
             ],
             [
              1,
              "#f0f921"
             ]
            ],
            "type": "histogram2dcontour"
           }
          ],
          "mesh3d": [
           {
            "colorbar": {
             "outlinewidth": 0,
             "ticks": ""
            },
            "type": "mesh3d"
           }
          ],
          "parcoords": [
           {
            "line": {
             "colorbar": {
              "outlinewidth": 0,
              "ticks": ""
             }
            },
            "type": "parcoords"
           }
          ],
          "pie": [
           {
            "automargin": true,
            "type": "pie"
           }
          ],
          "scatter": [
           {
            "fillpattern": {
             "fillmode": "overlay",
             "size": 10,
             "solidity": 0.2
            },
            "type": "scatter"
           }
          ],
          "scatter3d": [
           {
            "line": {
             "colorbar": {
              "outlinewidth": 0,
              "ticks": ""
             }
            },
            "marker": {
             "colorbar": {
              "outlinewidth": 0,
              "ticks": ""
             }
            },
            "type": "scatter3d"
           }
          ],
          "scattercarpet": [
           {
            "marker": {
             "colorbar": {
              "outlinewidth": 0,
              "ticks": ""
             }
            },
            "type": "scattercarpet"
           }
          ],
          "scattergeo": [
           {
            "marker": {
             "colorbar": {
              "outlinewidth": 0,
              "ticks": ""
             }
            },
            "type": "scattergeo"
           }
          ],
          "scattergl": [
           {
            "marker": {
             "colorbar": {
              "outlinewidth": 0,
              "ticks": ""
             }
            },
            "type": "scattergl"
           }
          ],
          "scattermap": [
           {
            "marker": {
             "colorbar": {
              "outlinewidth": 0,
              "ticks": ""
             }
            },
            "type": "scattermap"
           }
          ],
          "scattermapbox": [
           {
            "marker": {
             "colorbar": {
              "outlinewidth": 0,
              "ticks": ""
             }
            },
            "type": "scattermapbox"
           }
          ],
          "scatterpolar": [
           {
            "marker": {
             "colorbar": {
              "outlinewidth": 0,
              "ticks": ""
             }
            },
            "type": "scatterpolar"
           }
          ],
          "scatterpolargl": [
           {
            "marker": {
             "colorbar": {
              "outlinewidth": 0,
              "ticks": ""
             }
            },
            "type": "scatterpolargl"
           }
          ],
          "scatterternary": [
           {
            "marker": {
             "colorbar": {
              "outlinewidth": 0,
              "ticks": ""
             }
            },
            "type": "scatterternary"
           }
          ],
          "surface": [
           {
            "colorbar": {
             "outlinewidth": 0,
             "ticks": ""
            },
            "colorscale": [
             [
              0,
              "#0d0887"
             ],
             [
              0.1111111111111111,
              "#46039f"
             ],
             [
              0.2222222222222222,
              "#7201a8"
             ],
             [
              0.3333333333333333,
              "#9c179e"
             ],
             [
              0.4444444444444444,
              "#bd3786"
             ],
             [
              0.5555555555555556,
              "#d8576b"
             ],
             [
              0.6666666666666666,
              "#ed7953"
             ],
             [
              0.7777777777777778,
              "#fb9f3a"
             ],
             [
              0.8888888888888888,
              "#fdca26"
             ],
             [
              1,
              "#f0f921"
             ]
            ],
            "type": "surface"
           }
          ],
          "table": [
           {
            "cells": {
             "fill": {
              "color": "#EBF0F8"
             },
             "line": {
              "color": "white"
             }
            },
            "header": {
             "fill": {
              "color": "#C8D4E3"
             },
             "line": {
              "color": "white"
             }
            },
            "type": "table"
           }
          ]
         },
         "layout": {
          "annotationdefaults": {
           "arrowcolor": "#2a3f5f",
           "arrowhead": 0,
           "arrowwidth": 1
          },
          "autotypenumbers": "strict",
          "coloraxis": {
           "colorbar": {
            "outlinewidth": 0,
            "ticks": ""
           }
          },
          "colorscale": {
           "diverging": [
            [
             0,
             "#8e0152"
            ],
            [
             0.1,
             "#c51b7d"
            ],
            [
             0.2,
             "#de77ae"
            ],
            [
             0.3,
             "#f1b6da"
            ],
            [
             0.4,
             "#fde0ef"
            ],
            [
             0.5,
             "#f7f7f7"
            ],
            [
             0.6,
             "#e6f5d0"
            ],
            [
             0.7,
             "#b8e186"
            ],
            [
             0.8,
             "#7fbc41"
            ],
            [
             0.9,
             "#4d9221"
            ],
            [
             1,
             "#276419"
            ]
           ],
           "sequential": [
            [
             0,
             "#0d0887"
            ],
            [
             0.1111111111111111,
             "#46039f"
            ],
            [
             0.2222222222222222,
             "#7201a8"
            ],
            [
             0.3333333333333333,
             "#9c179e"
            ],
            [
             0.4444444444444444,
             "#bd3786"
            ],
            [
             0.5555555555555556,
             "#d8576b"
            ],
            [
             0.6666666666666666,
             "#ed7953"
            ],
            [
             0.7777777777777778,
             "#fb9f3a"
            ],
            [
             0.8888888888888888,
             "#fdca26"
            ],
            [
             1,
             "#f0f921"
            ]
           ],
           "sequentialminus": [
            [
             0,
             "#0d0887"
            ],
            [
             0.1111111111111111,
             "#46039f"
            ],
            [
             0.2222222222222222,
             "#7201a8"
            ],
            [
             0.3333333333333333,
             "#9c179e"
            ],
            [
             0.4444444444444444,
             "#bd3786"
            ],
            [
             0.5555555555555556,
             "#d8576b"
            ],
            [
             0.6666666666666666,
             "#ed7953"
            ],
            [
             0.7777777777777778,
             "#fb9f3a"
            ],
            [
             0.8888888888888888,
             "#fdca26"
            ],
            [
             1,
             "#f0f921"
            ]
           ]
          },
          "colorway": [
           "#636efa",
           "#EF553B",
           "#00cc96",
           "#ab63fa",
           "#FFA15A",
           "#19d3f3",
           "#FF6692",
           "#B6E880",
           "#FF97FF",
           "#FECB52"
          ],
          "font": {
           "color": "#2a3f5f"
          },
          "geo": {
           "bgcolor": "white",
           "lakecolor": "white",
           "landcolor": "#E5ECF6",
           "showlakes": true,
           "showland": true,
           "subunitcolor": "white"
          },
          "hoverlabel": {
           "align": "left"
          },
          "hovermode": "closest",
          "mapbox": {
           "style": "light"
          },
          "paper_bgcolor": "white",
          "plot_bgcolor": "#E5ECF6",
          "polar": {
           "angularaxis": {
            "gridcolor": "white",
            "linecolor": "white",
            "ticks": ""
           },
           "bgcolor": "#E5ECF6",
           "radialaxis": {
            "gridcolor": "white",
            "linecolor": "white",
            "ticks": ""
           }
          },
          "scene": {
           "xaxis": {
            "backgroundcolor": "#E5ECF6",
            "gridcolor": "white",
            "gridwidth": 2,
            "linecolor": "white",
            "showbackground": true,
            "ticks": "",
            "zerolinecolor": "white"
           },
           "yaxis": {
            "backgroundcolor": "#E5ECF6",
            "gridcolor": "white",
            "gridwidth": 2,
            "linecolor": "white",
            "showbackground": true,
            "ticks": "",
            "zerolinecolor": "white"
           },
           "zaxis": {
            "backgroundcolor": "#E5ECF6",
            "gridcolor": "white",
            "gridwidth": 2,
            "linecolor": "white",
            "showbackground": true,
            "ticks": "",
            "zerolinecolor": "white"
           }
          },
          "shapedefaults": {
           "line": {
            "color": "#2a3f5f"
           }
          },
          "ternary": {
           "aaxis": {
            "gridcolor": "white",
            "linecolor": "white",
            "ticks": ""
           },
           "baxis": {
            "gridcolor": "white",
            "linecolor": "white",
            "ticks": ""
           },
           "bgcolor": "#E5ECF6",
           "caxis": {
            "gridcolor": "white",
            "linecolor": "white",
            "ticks": ""
           }
          },
          "title": {
           "x": 0.05
          },
          "xaxis": {
           "automargin": true,
           "gridcolor": "white",
           "linecolor": "white",
           "ticks": "",
           "title": {
            "standoff": 15
           },
           "zerolinecolor": "white",
           "zerolinewidth": 2
          },
          "yaxis": {
           "automargin": true,
           "gridcolor": "white",
           "linecolor": "white",
           "ticks": "",
           "title": {
            "standoff": 15
           },
           "zerolinecolor": "white",
           "zerolinewidth": 2
          }
         }
        },
        "title": {
         "text": "Total Trips by Month and User Type"
        },
        "xaxis": {
         "categoryarray": [
          "January",
          "February",
          "March",
          "April",
          "May",
          "June",
          "July",
          "August",
          "September",
          "October",
          "November",
          "December"
         ],
         "categoryorder": "array",
         "title": {
          "text": "Month"
         }
        },
        "yaxis": {
         "title": {
          "text": "Total Trips"
         }
        }
       }
      }
     },
     "metadata": {},
     "output_type": "display_data"
    },
    {
     "data": {
      "application/vnd.plotly.v1+json": {
       "config": {
        "plotlyServerURL": "https://plot.ly"
       },
       "data": [
        {
         "name": "Customer",
         "type": "bar",
         "x": {
          "bdata": "AAAAAAEAAAACAAAAAwAAAAQAAAAFAAAABgAAAAcAAAAIAAAACQAAAAoAAAALAAAADAAAAA0AAAAOAAAADwAAABAAAAARAAAAEgAAABMAAAAUAAAAFQAAABYAAAAXAAAA",
          "dtype": "i4"
         },
         "y": {
          "bdata": "TwfPBAED3gFrAZIExArXFnAiLCDEKvM3ZEKRRdtGuEuNV79m3lEAO5QoFB2sGLoO",
          "dtype": "i2"
         }
        },
        {
         "name": "Subscriber",
         "type": "bar",
         "x": {
          "bdata": "AAAAAAEAAAACAAAAAwAAAAQAAAAFAAAABgAAAAcAAAAIAAAACQAAAAoAAAALAAAADAAAAA0AAAAOAAAADwAAABAAAAARAAAAEgAAABMAAAAUAAAAFQAAABYAAAAXAAAA",
          "dtype": "i4"
         },
         "y": {
          "bdata": "UjoAAHQhAAB9EwAASw0AAJMYAAAieAAAi3UBANU7AwB7IAQAw+oBAOJlAQAipwEAIeYBAJXTAQCaxAEAiUcCAHIpBAAhmgUAgIoDAO9EAgBjbQEAVQYBANqyAAC5aAAA",
          "dtype": "i4"
         }
        }
       ],
       "layout": {
        "barmode": "group",
        "template": {
         "data": {
          "bar": [
           {
            "error_x": {
             "color": "#2a3f5f"
            },
            "error_y": {
             "color": "#2a3f5f"
            },
            "marker": {
             "line": {
              "color": "#E5ECF6",
              "width": 0.5
             },
             "pattern": {
              "fillmode": "overlay",
              "size": 10,
              "solidity": 0.2
             }
            },
            "type": "bar"
           }
          ],
          "barpolar": [
           {
            "marker": {
             "line": {
              "color": "#E5ECF6",
              "width": 0.5
             },
             "pattern": {
              "fillmode": "overlay",
              "size": 10,
              "solidity": 0.2
             }
            },
            "type": "barpolar"
           }
          ],
          "carpet": [
           {
            "aaxis": {
             "endlinecolor": "#2a3f5f",
             "gridcolor": "white",
             "linecolor": "white",
             "minorgridcolor": "white",
             "startlinecolor": "#2a3f5f"
            },
            "baxis": {
             "endlinecolor": "#2a3f5f",
             "gridcolor": "white",
             "linecolor": "white",
             "minorgridcolor": "white",
             "startlinecolor": "#2a3f5f"
            },
            "type": "carpet"
           }
          ],
          "choropleth": [
           {
            "colorbar": {
             "outlinewidth": 0,
             "ticks": ""
            },
            "type": "choropleth"
           }
          ],
          "contour": [
           {
            "colorbar": {
             "outlinewidth": 0,
             "ticks": ""
            },
            "colorscale": [
             [
              0,
              "#0d0887"
             ],
             [
              0.1111111111111111,
              "#46039f"
             ],
             [
              0.2222222222222222,
              "#7201a8"
             ],
             [
              0.3333333333333333,
              "#9c179e"
             ],
             [
              0.4444444444444444,
              "#bd3786"
             ],
             [
              0.5555555555555556,
              "#d8576b"
             ],
             [
              0.6666666666666666,
              "#ed7953"
             ],
             [
              0.7777777777777778,
              "#fb9f3a"
             ],
             [
              0.8888888888888888,
              "#fdca26"
             ],
             [
              1,
              "#f0f921"
             ]
            ],
            "type": "contour"
           }
          ],
          "contourcarpet": [
           {
            "colorbar": {
             "outlinewidth": 0,
             "ticks": ""
            },
            "type": "contourcarpet"
           }
          ],
          "heatmap": [
           {
            "colorbar": {
             "outlinewidth": 0,
             "ticks": ""
            },
            "colorscale": [
             [
              0,
              "#0d0887"
             ],
             [
              0.1111111111111111,
              "#46039f"
             ],
             [
              0.2222222222222222,
              "#7201a8"
             ],
             [
              0.3333333333333333,
              "#9c179e"
             ],
             [
              0.4444444444444444,
              "#bd3786"
             ],
             [
              0.5555555555555556,
              "#d8576b"
             ],
             [
              0.6666666666666666,
              "#ed7953"
             ],
             [
              0.7777777777777778,
              "#fb9f3a"
             ],
             [
              0.8888888888888888,
              "#fdca26"
             ],
             [
              1,
              "#f0f921"
             ]
            ],
            "type": "heatmap"
           }
          ],
          "histogram": [
           {
            "marker": {
             "pattern": {
              "fillmode": "overlay",
              "size": 10,
              "solidity": 0.2
             }
            },
            "type": "histogram"
           }
          ],
          "histogram2d": [
           {
            "colorbar": {
             "outlinewidth": 0,
             "ticks": ""
            },
            "colorscale": [
             [
              0,
              "#0d0887"
             ],
             [
              0.1111111111111111,
              "#46039f"
             ],
             [
              0.2222222222222222,
              "#7201a8"
             ],
             [
              0.3333333333333333,
              "#9c179e"
             ],
             [
              0.4444444444444444,
              "#bd3786"
             ],
             [
              0.5555555555555556,
              "#d8576b"
             ],
             [
              0.6666666666666666,
              "#ed7953"
             ],
             [
              0.7777777777777778,
              "#fb9f3a"
             ],
             [
              0.8888888888888888,
              "#fdca26"
             ],
             [
              1,
              "#f0f921"
             ]
            ],
            "type": "histogram2d"
           }
          ],
          "histogram2dcontour": [
           {
            "colorbar": {
             "outlinewidth": 0,
             "ticks": ""
            },
            "colorscale": [
             [
              0,
              "#0d0887"
             ],
             [
              0.1111111111111111,
              "#46039f"
             ],
             [
              0.2222222222222222,
              "#7201a8"
             ],
             [
              0.3333333333333333,
              "#9c179e"
             ],
             [
              0.4444444444444444,
              "#bd3786"
             ],
             [
              0.5555555555555556,
              "#d8576b"
             ],
             [
              0.6666666666666666,
              "#ed7953"
             ],
             [
              0.7777777777777778,
              "#fb9f3a"
             ],
             [
              0.8888888888888888,
              "#fdca26"
             ],
             [
              1,
              "#f0f921"
             ]
            ],
            "type": "histogram2dcontour"
           }
          ],
          "mesh3d": [
           {
            "colorbar": {
             "outlinewidth": 0,
             "ticks": ""
            },
            "type": "mesh3d"
           }
          ],
          "parcoords": [
           {
            "line": {
             "colorbar": {
              "outlinewidth": 0,
              "ticks": ""
             }
            },
            "type": "parcoords"
           }
          ],
          "pie": [
           {
            "automargin": true,
            "type": "pie"
           }
          ],
          "scatter": [
           {
            "fillpattern": {
             "fillmode": "overlay",
             "size": 10,
             "solidity": 0.2
            },
            "type": "scatter"
           }
          ],
          "scatter3d": [
           {
            "line": {
             "colorbar": {
              "outlinewidth": 0,
              "ticks": ""
             }
            },
            "marker": {
             "colorbar": {
              "outlinewidth": 0,
              "ticks": ""
             }
            },
            "type": "scatter3d"
           }
          ],
          "scattercarpet": [
           {
            "marker": {
             "colorbar": {
              "outlinewidth": 0,
              "ticks": ""
             }
            },
            "type": "scattercarpet"
           }
          ],
          "scattergeo": [
           {
            "marker": {
             "colorbar": {
              "outlinewidth": 0,
              "ticks": ""
             }
            },
            "type": "scattergeo"
           }
          ],
          "scattergl": [
           {
            "marker": {
             "colorbar": {
              "outlinewidth": 0,
              "ticks": ""
             }
            },
            "type": "scattergl"
           }
          ],
          "scattermap": [
           {
            "marker": {
             "colorbar": {
              "outlinewidth": 0,
              "ticks": ""
             }
            },
            "type": "scattermap"
           }
          ],
          "scattermapbox": [
           {
            "marker": {
             "colorbar": {
              "outlinewidth": 0,
              "ticks": ""
             }
            },
            "type": "scattermapbox"
           }
          ],
          "scatterpolar": [
           {
            "marker": {
             "colorbar": {
              "outlinewidth": 0,
              "ticks": ""
             }
            },
            "type": "scatterpolar"
           }
          ],
          "scatterpolargl": [
           {
            "marker": {
             "colorbar": {
              "outlinewidth": 0,
              "ticks": ""
             }
            },
            "type": "scatterpolargl"
           }
          ],
          "scatterternary": [
           {
            "marker": {
             "colorbar": {
              "outlinewidth": 0,
              "ticks": ""
             }
            },
            "type": "scatterternary"
           }
          ],
          "surface": [
           {
            "colorbar": {
             "outlinewidth": 0,
             "ticks": ""
            },
            "colorscale": [
             [
              0,
              "#0d0887"
             ],
             [
              0.1111111111111111,
              "#46039f"
             ],
             [
              0.2222222222222222,
              "#7201a8"
             ],
             [
              0.3333333333333333,
              "#9c179e"
             ],
             [
              0.4444444444444444,
              "#bd3786"
             ],
             [
              0.5555555555555556,
              "#d8576b"
             ],
             [
              0.6666666666666666,
              "#ed7953"
             ],
             [
              0.7777777777777778,
              "#fb9f3a"
             ],
             [
              0.8888888888888888,
              "#fdca26"
             ],
             [
              1,
              "#f0f921"
             ]
            ],
            "type": "surface"
           }
          ],
          "table": [
           {
            "cells": {
             "fill": {
              "color": "#EBF0F8"
             },
             "line": {
              "color": "white"
             }
            },
            "header": {
             "fill": {
              "color": "#C8D4E3"
             },
             "line": {
              "color": "white"
             }
            },
            "type": "table"
           }
          ]
         },
         "layout": {
          "annotationdefaults": {
           "arrowcolor": "#2a3f5f",
           "arrowhead": 0,
           "arrowwidth": 1
          },
          "autotypenumbers": "strict",
          "coloraxis": {
           "colorbar": {
            "outlinewidth": 0,
            "ticks": ""
           }
          },
          "colorscale": {
           "diverging": [
            [
             0,
             "#8e0152"
            ],
            [
             0.1,
             "#c51b7d"
            ],
            [
             0.2,
             "#de77ae"
            ],
            [
             0.3,
             "#f1b6da"
            ],
            [
             0.4,
             "#fde0ef"
            ],
            [
             0.5,
             "#f7f7f7"
            ],
            [
             0.6,
             "#e6f5d0"
            ],
            [
             0.7,
             "#b8e186"
            ],
            [
             0.8,
             "#7fbc41"
            ],
            [
             0.9,
             "#4d9221"
            ],
            [
             1,
             "#276419"
            ]
           ],
           "sequential": [
            [
             0,
             "#0d0887"
            ],
            [
             0.1111111111111111,
             "#46039f"
            ],
            [
             0.2222222222222222,
             "#7201a8"
            ],
            [
             0.3333333333333333,
             "#9c179e"
            ],
            [
             0.4444444444444444,
             "#bd3786"
            ],
            [
             0.5555555555555556,
             "#d8576b"
            ],
            [
             0.6666666666666666,
             "#ed7953"
            ],
            [
             0.7777777777777778,
             "#fb9f3a"
            ],
            [
             0.8888888888888888,
             "#fdca26"
            ],
            [
             1,
             "#f0f921"
            ]
           ],
           "sequentialminus": [
            [
             0,
             "#0d0887"
            ],
            [
             0.1111111111111111,
             "#46039f"
            ],
            [
             0.2222222222222222,
             "#7201a8"
            ],
            [
             0.3333333333333333,
             "#9c179e"
            ],
            [
             0.4444444444444444,
             "#bd3786"
            ],
            [
             0.5555555555555556,
             "#d8576b"
            ],
            [
             0.6666666666666666,
             "#ed7953"
            ],
            [
             0.7777777777777778,
             "#fb9f3a"
            ],
            [
             0.8888888888888888,
             "#fdca26"
            ],
            [
             1,
             "#f0f921"
            ]
           ]
          },
          "colorway": [
           "#636efa",
           "#EF553B",
           "#00cc96",
           "#ab63fa",
           "#FFA15A",
           "#19d3f3",
           "#FF6692",
           "#B6E880",
           "#FF97FF",
           "#FECB52"
          ],
          "font": {
           "color": "#2a3f5f"
          },
          "geo": {
           "bgcolor": "white",
           "lakecolor": "white",
           "landcolor": "#E5ECF6",
           "showlakes": true,
           "showland": true,
           "subunitcolor": "white"
          },
          "hoverlabel": {
           "align": "left"
          },
          "hovermode": "closest",
          "mapbox": {
           "style": "light"
          },
          "paper_bgcolor": "white",
          "plot_bgcolor": "#E5ECF6",
          "polar": {
           "angularaxis": {
            "gridcolor": "white",
            "linecolor": "white",
            "ticks": ""
           },
           "bgcolor": "#E5ECF6",
           "radialaxis": {
            "gridcolor": "white",
            "linecolor": "white",
            "ticks": ""
           }
          },
          "scene": {
           "xaxis": {
            "backgroundcolor": "#E5ECF6",
            "gridcolor": "white",
            "gridwidth": 2,
            "linecolor": "white",
            "showbackground": true,
            "ticks": "",
            "zerolinecolor": "white"
           },
           "yaxis": {
            "backgroundcolor": "#E5ECF6",
            "gridcolor": "white",
            "gridwidth": 2,
            "linecolor": "white",
            "showbackground": true,
            "ticks": "",
            "zerolinecolor": "white"
           },
           "zaxis": {
            "backgroundcolor": "#E5ECF6",
            "gridcolor": "white",
            "gridwidth": 2,
            "linecolor": "white",
            "showbackground": true,
            "ticks": "",
            "zerolinecolor": "white"
           }
          },
          "shapedefaults": {
           "line": {
            "color": "#2a3f5f"
           }
          },
          "ternary": {
           "aaxis": {
            "gridcolor": "white",
            "linecolor": "white",
            "ticks": ""
           },
           "baxis": {
            "gridcolor": "white",
            "linecolor": "white",
            "ticks": ""
           },
           "bgcolor": "#E5ECF6",
           "caxis": {
            "gridcolor": "white",
            "linecolor": "white",
            "ticks": ""
           }
          },
          "title": {
           "x": 0.05
          },
          "xaxis": {
           "automargin": true,
           "gridcolor": "white",
           "linecolor": "white",
           "ticks": "",
           "title": {
            "standoff": 15
           },
           "zerolinecolor": "white",
           "zerolinewidth": 2
          },
          "yaxis": {
           "automargin": true,
           "gridcolor": "white",
           "linecolor": "white",
           "ticks": "",
           "title": {
            "standoff": 15
           },
           "zerolinecolor": "white",
           "zerolinewidth": 2
          }
         }
        },
        "title": {
         "text": "Total Trips by Hour of the Day and User Type"
        },
        "xaxis": {},
        "yaxis": {
         "title": {
          "text": "Total Trips"
         }
        }
       }
      }
     },
     "metadata": {},
     "output_type": "display_data"
    },
    {
     "data": {
      "application/vnd.plotly.v1+json": {
       "config": {
        "plotlyServerURL": "https://plot.ly"
       },
       "data": [
        {
         "name": "Female",
         "type": "bar",
         "x": [
          "Monday",
          "Tuesday",
          "Wednesday",
          "Thursday",
          "Friday",
          "Saturday",
          "Sunday"
         ],
         "y": {
          "bdata": "PrcBANjXAQD/1gEAiMwBAFa2AQAuewEAoE4BAA==",
          "dtype": "i4"
         }
        },
        {
         "name": "Male",
         "type": "bar",
         "x": [
          "Monday",
          "Tuesday",
          "Wednesday",
          "Thursday",
          "Friday",
          "Saturday",
          "Sunday"
         ],
         "y": {
          "bdata": "1kMFALWoBQAGpAUAKpsFAJVSBQAiTgMAgPACAA==",
          "dtype": "i4"
         }
        }
       ],
       "layout": {
        "barmode": "group",
        "template": {
         "data": {
          "bar": [
           {
            "error_x": {
             "color": "#2a3f5f"
            },
            "error_y": {
             "color": "#2a3f5f"
            },
            "marker": {
             "line": {
              "color": "#E5ECF6",
              "width": 0.5
             },
             "pattern": {
              "fillmode": "overlay",
              "size": 10,
              "solidity": 0.2
             }
            },
            "type": "bar"
           }
          ],
          "barpolar": [
           {
            "marker": {
             "line": {
              "color": "#E5ECF6",
              "width": 0.5
             },
             "pattern": {
              "fillmode": "overlay",
              "size": 10,
              "solidity": 0.2
             }
            },
            "type": "barpolar"
           }
          ],
          "carpet": [
           {
            "aaxis": {
             "endlinecolor": "#2a3f5f",
             "gridcolor": "white",
             "linecolor": "white",
             "minorgridcolor": "white",
             "startlinecolor": "#2a3f5f"
            },
            "baxis": {
             "endlinecolor": "#2a3f5f",
             "gridcolor": "white",
             "linecolor": "white",
             "minorgridcolor": "white",
             "startlinecolor": "#2a3f5f"
            },
            "type": "carpet"
           }
          ],
          "choropleth": [
           {
            "colorbar": {
             "outlinewidth": 0,
             "ticks": ""
            },
            "type": "choropleth"
           }
          ],
          "contour": [
           {
            "colorbar": {
             "outlinewidth": 0,
             "ticks": ""
            },
            "colorscale": [
             [
              0,
              "#0d0887"
             ],
             [
              0.1111111111111111,
              "#46039f"
             ],
             [
              0.2222222222222222,
              "#7201a8"
             ],
             [
              0.3333333333333333,
              "#9c179e"
             ],
             [
              0.4444444444444444,
              "#bd3786"
             ],
             [
              0.5555555555555556,
              "#d8576b"
             ],
             [
              0.6666666666666666,
              "#ed7953"
             ],
             [
              0.7777777777777778,
              "#fb9f3a"
             ],
             [
              0.8888888888888888,
              "#fdca26"
             ],
             [
              1,
              "#f0f921"
             ]
            ],
            "type": "contour"
           }
          ],
          "contourcarpet": [
           {
            "colorbar": {
             "outlinewidth": 0,
             "ticks": ""
            },
            "type": "contourcarpet"
           }
          ],
          "heatmap": [
           {
            "colorbar": {
             "outlinewidth": 0,
             "ticks": ""
            },
            "colorscale": [
             [
              0,
              "#0d0887"
             ],
             [
              0.1111111111111111,
              "#46039f"
             ],
             [
              0.2222222222222222,
              "#7201a8"
             ],
             [
              0.3333333333333333,
              "#9c179e"
             ],
             [
              0.4444444444444444,
              "#bd3786"
             ],
             [
              0.5555555555555556,
              "#d8576b"
             ],
             [
              0.6666666666666666,
              "#ed7953"
             ],
             [
              0.7777777777777778,
              "#fb9f3a"
             ],
             [
              0.8888888888888888,
              "#fdca26"
             ],
             [
              1,
              "#f0f921"
             ]
            ],
            "type": "heatmap"
           }
          ],
          "histogram": [
           {
            "marker": {
             "pattern": {
              "fillmode": "overlay",
              "size": 10,
              "solidity": 0.2
             }
            },
            "type": "histogram"
           }
          ],
          "histogram2d": [
           {
            "colorbar": {
             "outlinewidth": 0,
             "ticks": ""
            },
            "colorscale": [
             [
              0,
              "#0d0887"
             ],
             [
              0.1111111111111111,
              "#46039f"
             ],
             [
              0.2222222222222222,
              "#7201a8"
             ],
             [
              0.3333333333333333,
              "#9c179e"
             ],
             [
              0.4444444444444444,
              "#bd3786"
             ],
             [
              0.5555555555555556,
              "#d8576b"
             ],
             [
              0.6666666666666666,
              "#ed7953"
             ],
             [
              0.7777777777777778,
              "#fb9f3a"
             ],
             [
              0.8888888888888888,
              "#fdca26"
             ],
             [
              1,
              "#f0f921"
             ]
            ],
            "type": "histogram2d"
           }
          ],
          "histogram2dcontour": [
           {
            "colorbar": {
             "outlinewidth": 0,
             "ticks": ""
            },
            "colorscale": [
             [
              0,
              "#0d0887"
             ],
             [
              0.1111111111111111,
              "#46039f"
             ],
             [
              0.2222222222222222,
              "#7201a8"
             ],
             [
              0.3333333333333333,
              "#9c179e"
             ],
             [
              0.4444444444444444,
              "#bd3786"
             ],
             [
              0.5555555555555556,
              "#d8576b"
             ],
             [
              0.6666666666666666,
              "#ed7953"
             ],
             [
              0.7777777777777778,
              "#fb9f3a"
             ],
             [
              0.8888888888888888,
              "#fdca26"
             ],
             [
              1,
              "#f0f921"
             ]
            ],
            "type": "histogram2dcontour"
           }
          ],
          "mesh3d": [
           {
            "colorbar": {
             "outlinewidth": 0,
             "ticks": ""
            },
            "type": "mesh3d"
           }
          ],
          "parcoords": [
           {
            "line": {
             "colorbar": {
              "outlinewidth": 0,
              "ticks": ""
             }
            },
            "type": "parcoords"
           }
          ],
          "pie": [
           {
            "automargin": true,
            "type": "pie"
           }
          ],
          "scatter": [
           {
            "fillpattern": {
             "fillmode": "overlay",
             "size": 10,
             "solidity": 0.2
            },
            "type": "scatter"
           }
          ],
          "scatter3d": [
           {
            "line": {
             "colorbar": {
              "outlinewidth": 0,
              "ticks": ""
             }
            },
            "marker": {
             "colorbar": {
              "outlinewidth": 0,
              "ticks": ""
             }
            },
            "type": "scatter3d"
           }
          ],
          "scattercarpet": [
           {
            "marker": {
             "colorbar": {
              "outlinewidth": 0,
              "ticks": ""
             }
            },
            "type": "scattercarpet"
           }
          ],
          "scattergeo": [
           {
            "marker": {
             "colorbar": {
              "outlinewidth": 0,
              "ticks": ""
             }
            },
            "type": "scattergeo"
           }
          ],
          "scattergl": [
           {
            "marker": {
             "colorbar": {
              "outlinewidth": 0,
              "ticks": ""
             }
            },
            "type": "scattergl"
           }
          ],
          "scattermap": [
           {
            "marker": {
             "colorbar": {
              "outlinewidth": 0,
              "ticks": ""
             }
            },
            "type": "scattermap"
           }
          ],
          "scattermapbox": [
           {
            "marker": {
             "colorbar": {
              "outlinewidth": 0,
              "ticks": ""
             }
            },
            "type": "scattermapbox"
           }
          ],
          "scatterpolar": [
           {
            "marker": {
             "colorbar": {
              "outlinewidth": 0,
              "ticks": ""
             }
            },
            "type": "scatterpolar"
           }
          ],
          "scatterpolargl": [
           {
            "marker": {
             "colorbar": {
              "outlinewidth": 0,
              "ticks": ""
             }
            },
            "type": "scatterpolargl"
           }
          ],
          "scatterternary": [
           {
            "marker": {
             "colorbar": {
              "outlinewidth": 0,
              "ticks": ""
             }
            },
            "type": "scatterternary"
           }
          ],
          "surface": [
           {
            "colorbar": {
             "outlinewidth": 0,
             "ticks": ""
            },
            "colorscale": [
             [
              0,
              "#0d0887"
             ],
             [
              0.1111111111111111,
              "#46039f"
             ],
             [
              0.2222222222222222,
              "#7201a8"
             ],
             [
              0.3333333333333333,
              "#9c179e"
             ],
             [
              0.4444444444444444,
              "#bd3786"
             ],
             [
              0.5555555555555556,
              "#d8576b"
             ],
             [
              0.6666666666666666,
              "#ed7953"
             ],
             [
              0.7777777777777778,
              "#fb9f3a"
             ],
             [
              0.8888888888888888,
              "#fdca26"
             ],
             [
              1,
              "#f0f921"
             ]
            ],
            "type": "surface"
           }
          ],
          "table": [
           {
            "cells": {
             "fill": {
              "color": "#EBF0F8"
             },
             "line": {
              "color": "white"
             }
            },
            "header": {
             "fill": {
              "color": "#C8D4E3"
             },
             "line": {
              "color": "white"
             }
            },
            "type": "table"
           }
          ]
         },
         "layout": {
          "annotationdefaults": {
           "arrowcolor": "#2a3f5f",
           "arrowhead": 0,
           "arrowwidth": 1
          },
          "autotypenumbers": "strict",
          "coloraxis": {
           "colorbar": {
            "outlinewidth": 0,
            "ticks": ""
           }
          },
          "colorscale": {
           "diverging": [
            [
             0,
             "#8e0152"
            ],
            [
             0.1,
             "#c51b7d"
            ],
            [
             0.2,
             "#de77ae"
            ],
            [
             0.3,
             "#f1b6da"
            ],
            [
             0.4,
             "#fde0ef"
            ],
            [
             0.5,
             "#f7f7f7"
            ],
            [
             0.6,
             "#e6f5d0"
            ],
            [
             0.7,
             "#b8e186"
            ],
            [
             0.8,
             "#7fbc41"
            ],
            [
             0.9,
             "#4d9221"
            ],
            [
             1,
             "#276419"
            ]
           ],
           "sequential": [
            [
             0,
             "#0d0887"
            ],
            [
             0.1111111111111111,
             "#46039f"
            ],
            [
             0.2222222222222222,
             "#7201a8"
            ],
            [
             0.3333333333333333,
             "#9c179e"
            ],
            [
             0.4444444444444444,
             "#bd3786"
            ],
            [
             0.5555555555555556,
             "#d8576b"
            ],
            [
             0.6666666666666666,
             "#ed7953"
            ],
            [
             0.7777777777777778,
             "#fb9f3a"
            ],
            [
             0.8888888888888888,
             "#fdca26"
            ],
            [
             1,
             "#f0f921"
            ]
           ],
           "sequentialminus": [
            [
             0,
             "#0d0887"
            ],
            [
             0.1111111111111111,
             "#46039f"
            ],
            [
             0.2222222222222222,
             "#7201a8"
            ],
            [
             0.3333333333333333,
             "#9c179e"
            ],
            [
             0.4444444444444444,
             "#bd3786"
            ],
            [
             0.5555555555555556,
             "#d8576b"
            ],
            [
             0.6666666666666666,
             "#ed7953"
            ],
            [
             0.7777777777777778,
             "#fb9f3a"
            ],
            [
             0.8888888888888888,
             "#fdca26"
            ],
            [
             1,
             "#f0f921"
            ]
           ]
          },
          "colorway": [
           "#636efa",
           "#EF553B",
           "#00cc96",
           "#ab63fa",
           "#FFA15A",
           "#19d3f3",
           "#FF6692",
           "#B6E880",
           "#FF97FF",
           "#FECB52"
          ],
          "font": {
           "color": "#2a3f5f"
          },
          "geo": {
           "bgcolor": "white",
           "lakecolor": "white",
           "landcolor": "#E5ECF6",
           "showlakes": true,
           "showland": true,
           "subunitcolor": "white"
          },
          "hoverlabel": {
           "align": "left"
          },
          "hovermode": "closest",
          "mapbox": {
           "style": "light"
          },
          "paper_bgcolor": "white",
          "plot_bgcolor": "#E5ECF6",
          "polar": {
           "angularaxis": {
            "gridcolor": "white",
            "linecolor": "white",
            "ticks": ""
           },
           "bgcolor": "#E5ECF6",
           "radialaxis": {
            "gridcolor": "white",
            "linecolor": "white",
            "ticks": ""
           }
          },
          "scene": {
           "xaxis": {
            "backgroundcolor": "#E5ECF6",
            "gridcolor": "white",
            "gridwidth": 2,
            "linecolor": "white",
            "showbackground": true,
            "ticks": "",
            "zerolinecolor": "white"
           },
           "yaxis": {
            "backgroundcolor": "#E5ECF6",
            "gridcolor": "white",
            "gridwidth": 2,
            "linecolor": "white",
            "showbackground": true,
            "ticks": "",
            "zerolinecolor": "white"
           },
           "zaxis": {
            "backgroundcolor": "#E5ECF6",
            "gridcolor": "white",
            "gridwidth": 2,
            "linecolor": "white",
            "showbackground": true,
            "ticks": "",
            "zerolinecolor": "white"
           }
          },
          "shapedefaults": {
           "line": {
            "color": "#2a3f5f"
           }
          },
          "ternary": {
           "aaxis": {
            "gridcolor": "white",
            "linecolor": "white",
            "ticks": ""
           },
           "baxis": {
            "gridcolor": "white",
            "linecolor": "white",
            "ticks": ""
           },
           "bgcolor": "#E5ECF6",
           "caxis": {
            "gridcolor": "white",
            "linecolor": "white",
            "ticks": ""
           }
          },
          "title": {
           "x": 0.05
          },
          "xaxis": {
           "automargin": true,
           "gridcolor": "white",
           "linecolor": "white",
           "ticks": "",
           "title": {
            "standoff": 15
           },
           "zerolinecolor": "white",
           "zerolinewidth": 2
          },
          "yaxis": {
           "automargin": true,
           "gridcolor": "white",
           "linecolor": "white",
           "ticks": "",
           "title": {
            "standoff": 15
           },
           "zerolinecolor": "white",
           "zerolinewidth": 2
          }
         }
        },
        "title": {
         "text": "Total Trips by Day of the Week and Gender"
        },
        "xaxis": {
         "categoryarray": [
          "Monday",
          "Tuesday",
          "Wednesday",
          "Thursday",
          "Friday",
          "Saturday",
          "Sunday"
         ],
         "categoryorder": "array",
         "title": {
          "text": "Day of the Week"
         }
        },
        "yaxis": {
         "title": {
          "text": "Total Trips"
         }
        }
       }
      }
     },
     "metadata": {},
     "output_type": "display_data"
    },
    {
     "data": {
      "application/vnd.plotly.v1+json": {
       "config": {
        "plotlyServerURL": "https://plot.ly"
       },
       "data": [
        {
         "name": "Female",
         "type": "bar",
         "x": [
          "January",
          "February",
          "March",
          "April",
          "May",
          "June",
          "July",
          "August",
          "September",
          "October",
          "November",
          "December"
         ],
         "y": {
          "bdata": "z0QAAEQ8AABLcwAA2cAAALAVAQDVegEA0soBAK3kAQANmgEAzzEBAGOCAABHbwAA",
          "dtype": "i4"
         }
        },
        {
         "name": "Male",
         "type": "bar",
         "x": [
          "January",
          "February",
          "March",
          "April",
          "May",
          "June",
          "July",
          "August",
          "September",
          "October",
          "November",
          "December"
         ],
         "y": {
          "bdata": "0SUBAMsZAQAuuQEAtHcCADU1AwAC2wMAwlwEAIqzBAAGNAQAkHoDAF7eAQD9ngEA",
          "dtype": "i4"
         }
        }
       ],
       "layout": {
        "barmode": "group",
        "template": {
         "data": {
          "bar": [
           {
            "error_x": {
             "color": "#2a3f5f"
            },
            "error_y": {
             "color": "#2a3f5f"
            },
            "marker": {
             "line": {
              "color": "#E5ECF6",
              "width": 0.5
             },
             "pattern": {
              "fillmode": "overlay",
              "size": 10,
              "solidity": 0.2
             }
            },
            "type": "bar"
           }
          ],
          "barpolar": [
           {
            "marker": {
             "line": {
              "color": "#E5ECF6",
              "width": 0.5
             },
             "pattern": {
              "fillmode": "overlay",
              "size": 10,
              "solidity": 0.2
             }
            },
            "type": "barpolar"
           }
          ],
          "carpet": [
           {
            "aaxis": {
             "endlinecolor": "#2a3f5f",
             "gridcolor": "white",
             "linecolor": "white",
             "minorgridcolor": "white",
             "startlinecolor": "#2a3f5f"
            },
            "baxis": {
             "endlinecolor": "#2a3f5f",
             "gridcolor": "white",
             "linecolor": "white",
             "minorgridcolor": "white",
             "startlinecolor": "#2a3f5f"
            },
            "type": "carpet"
           }
          ],
          "choropleth": [
           {
            "colorbar": {
             "outlinewidth": 0,
             "ticks": ""
            },
            "type": "choropleth"
           }
          ],
          "contour": [
           {
            "colorbar": {
             "outlinewidth": 0,
             "ticks": ""
            },
            "colorscale": [
             [
              0,
              "#0d0887"
             ],
             [
              0.1111111111111111,
              "#46039f"
             ],
             [
              0.2222222222222222,
              "#7201a8"
             ],
             [
              0.3333333333333333,
              "#9c179e"
             ],
             [
              0.4444444444444444,
              "#bd3786"
             ],
             [
              0.5555555555555556,
              "#d8576b"
             ],
             [
              0.6666666666666666,
              "#ed7953"
             ],
             [
              0.7777777777777778,
              "#fb9f3a"
             ],
             [
              0.8888888888888888,
              "#fdca26"
             ],
             [
              1,
              "#f0f921"
             ]
            ],
            "type": "contour"
           }
          ],
          "contourcarpet": [
           {
            "colorbar": {
             "outlinewidth": 0,
             "ticks": ""
            },
            "type": "contourcarpet"
           }
          ],
          "heatmap": [
           {
            "colorbar": {
             "outlinewidth": 0,
             "ticks": ""
            },
            "colorscale": [
             [
              0,
              "#0d0887"
             ],
             [
              0.1111111111111111,
              "#46039f"
             ],
             [
              0.2222222222222222,
              "#7201a8"
             ],
             [
              0.3333333333333333,
              "#9c179e"
             ],
             [
              0.4444444444444444,
              "#bd3786"
             ],
             [
              0.5555555555555556,
              "#d8576b"
             ],
             [
              0.6666666666666666,
              "#ed7953"
             ],
             [
              0.7777777777777778,
              "#fb9f3a"
             ],
             [
              0.8888888888888888,
              "#fdca26"
             ],
             [
              1,
              "#f0f921"
             ]
            ],
            "type": "heatmap"
           }
          ],
          "histogram": [
           {
            "marker": {
             "pattern": {
              "fillmode": "overlay",
              "size": 10,
              "solidity": 0.2
             }
            },
            "type": "histogram"
           }
          ],
          "histogram2d": [
           {
            "colorbar": {
             "outlinewidth": 0,
             "ticks": ""
            },
            "colorscale": [
             [
              0,
              "#0d0887"
             ],
             [
              0.1111111111111111,
              "#46039f"
             ],
             [
              0.2222222222222222,
              "#7201a8"
             ],
             [
              0.3333333333333333,
              "#9c179e"
             ],
             [
              0.4444444444444444,
              "#bd3786"
             ],
             [
              0.5555555555555556,
              "#d8576b"
             ],
             [
              0.6666666666666666,
              "#ed7953"
             ],
             [
              0.7777777777777778,
              "#fb9f3a"
             ],
             [
              0.8888888888888888,
              "#fdca26"
             ],
             [
              1,
              "#f0f921"
             ]
            ],
            "type": "histogram2d"
           }
          ],
          "histogram2dcontour": [
           {
            "colorbar": {
             "outlinewidth": 0,
             "ticks": ""
            },
            "colorscale": [
             [
              0,
              "#0d0887"
             ],
             [
              0.1111111111111111,
              "#46039f"
             ],
             [
              0.2222222222222222,
              "#7201a8"
             ],
             [
              0.3333333333333333,
              "#9c179e"
             ],
             [
              0.4444444444444444,
              "#bd3786"
             ],
             [
              0.5555555555555556,
              "#d8576b"
             ],
             [
              0.6666666666666666,
              "#ed7953"
             ],
             [
              0.7777777777777778,
              "#fb9f3a"
             ],
             [
              0.8888888888888888,
              "#fdca26"
             ],
             [
              1,
              "#f0f921"
             ]
            ],
            "type": "histogram2dcontour"
           }
          ],
          "mesh3d": [
           {
            "colorbar": {
             "outlinewidth": 0,
             "ticks": ""
            },
            "type": "mesh3d"
           }
          ],
          "parcoords": [
           {
            "line": {
             "colorbar": {
              "outlinewidth": 0,
              "ticks": ""
             }
            },
            "type": "parcoords"
           }
          ],
          "pie": [
           {
            "automargin": true,
            "type": "pie"
           }
          ],
          "scatter": [
           {
            "fillpattern": {
             "fillmode": "overlay",
             "size": 10,
             "solidity": 0.2
            },
            "type": "scatter"
           }
          ],
          "scatter3d": [
           {
            "line": {
             "colorbar": {
              "outlinewidth": 0,
              "ticks": ""
             }
            },
            "marker": {
             "colorbar": {
              "outlinewidth": 0,
              "ticks": ""
             }
            },
            "type": "scatter3d"
           }
          ],
          "scattercarpet": [
           {
            "marker": {
             "colorbar": {
              "outlinewidth": 0,
              "ticks": ""
             }
            },
            "type": "scattercarpet"
           }
          ],
          "scattergeo": [
           {
            "marker": {
             "colorbar": {
              "outlinewidth": 0,
              "ticks": ""
             }
            },
            "type": "scattergeo"
           }
          ],
          "scattergl": [
           {
            "marker": {
             "colorbar": {
              "outlinewidth": 0,
              "ticks": ""
             }
            },
            "type": "scattergl"
           }
          ],
          "scattermap": [
           {
            "marker": {
             "colorbar": {
              "outlinewidth": 0,
              "ticks": ""
             }
            },
            "type": "scattermap"
           }
          ],
          "scattermapbox": [
           {
            "marker": {
             "colorbar": {
              "outlinewidth": 0,
              "ticks": ""
             }
            },
            "type": "scattermapbox"
           }
          ],
          "scatterpolar": [
           {
            "marker": {
             "colorbar": {
              "outlinewidth": 0,
              "ticks": ""
             }
            },
            "type": "scatterpolar"
           }
          ],
          "scatterpolargl": [
           {
            "marker": {
             "colorbar": {
              "outlinewidth": 0,
              "ticks": ""
             }
            },
            "type": "scatterpolargl"
           }
          ],
          "scatterternary": [
           {
            "marker": {
             "colorbar": {
              "outlinewidth": 0,
              "ticks": ""
             }
            },
            "type": "scatterternary"
           }
          ],
          "surface": [
           {
            "colorbar": {
             "outlinewidth": 0,
             "ticks": ""
            },
            "colorscale": [
             [
              0,
              "#0d0887"
             ],
             [
              0.1111111111111111,
              "#46039f"
             ],
             [
              0.2222222222222222,
              "#7201a8"
             ],
             [
              0.3333333333333333,
              "#9c179e"
             ],
             [
              0.4444444444444444,
              "#bd3786"
             ],
             [
              0.5555555555555556,
              "#d8576b"
             ],
             [
              0.6666666666666666,
              "#ed7953"
             ],
             [
              0.7777777777777778,
              "#fb9f3a"
             ],
             [
              0.8888888888888888,
              "#fdca26"
             ],
             [
              1,
              "#f0f921"
             ]
            ],
            "type": "surface"
           }
          ],
          "table": [
           {
            "cells": {
             "fill": {
              "color": "#EBF0F8"
             },
             "line": {
              "color": "white"
             }
            },
            "header": {
             "fill": {
              "color": "#C8D4E3"
             },
             "line": {
              "color": "white"
             }
            },
            "type": "table"
           }
          ]
         },
         "layout": {
          "annotationdefaults": {
           "arrowcolor": "#2a3f5f",
           "arrowhead": 0,
           "arrowwidth": 1
          },
          "autotypenumbers": "strict",
          "coloraxis": {
           "colorbar": {
            "outlinewidth": 0,
            "ticks": ""
           }
          },
          "colorscale": {
           "diverging": [
            [
             0,
             "#8e0152"
            ],
            [
             0.1,
             "#c51b7d"
            ],
            [
             0.2,
             "#de77ae"
            ],
            [
             0.3,
             "#f1b6da"
            ],
            [
             0.4,
             "#fde0ef"
            ],
            [
             0.5,
             "#f7f7f7"
            ],
            [
             0.6,
             "#e6f5d0"
            ],
            [
             0.7,
             "#b8e186"
            ],
            [
             0.8,
             "#7fbc41"
            ],
            [
             0.9,
             "#4d9221"
            ],
            [
             1,
             "#276419"
            ]
           ],
           "sequential": [
            [
             0,
             "#0d0887"
            ],
            [
             0.1111111111111111,
             "#46039f"
            ],
            [
             0.2222222222222222,
             "#7201a8"
            ],
            [
             0.3333333333333333,
             "#9c179e"
            ],
            [
             0.4444444444444444,
             "#bd3786"
            ],
            [
             0.5555555555555556,
             "#d8576b"
            ],
            [
             0.6666666666666666,
             "#ed7953"
            ],
            [
             0.7777777777777778,
             "#fb9f3a"
            ],
            [
             0.8888888888888888,
             "#fdca26"
            ],
            [
             1,
             "#f0f921"
            ]
           ],
           "sequentialminus": [
            [
             0,
             "#0d0887"
            ],
            [
             0.1111111111111111,
             "#46039f"
            ],
            [
             0.2222222222222222,
             "#7201a8"
            ],
            [
             0.3333333333333333,
             "#9c179e"
            ],
            [
             0.4444444444444444,
             "#bd3786"
            ],
            [
             0.5555555555555556,
             "#d8576b"
            ],
            [
             0.6666666666666666,
             "#ed7953"
            ],
            [
             0.7777777777777778,
             "#fb9f3a"
            ],
            [
             0.8888888888888888,
             "#fdca26"
            ],
            [
             1,
             "#f0f921"
            ]
           ]
          },
          "colorway": [
           "#636efa",
           "#EF553B",
           "#00cc96",
           "#ab63fa",
           "#FFA15A",
           "#19d3f3",
           "#FF6692",
           "#B6E880",
           "#FF97FF",
           "#FECB52"
          ],
          "font": {
           "color": "#2a3f5f"
          },
          "geo": {
           "bgcolor": "white",
           "lakecolor": "white",
           "landcolor": "#E5ECF6",
           "showlakes": true,
           "showland": true,
           "subunitcolor": "white"
          },
          "hoverlabel": {
           "align": "left"
          },
          "hovermode": "closest",
          "mapbox": {
           "style": "light"
          },
          "paper_bgcolor": "white",
          "plot_bgcolor": "#E5ECF6",
          "polar": {
           "angularaxis": {
            "gridcolor": "white",
            "linecolor": "white",
            "ticks": ""
           },
           "bgcolor": "#E5ECF6",
           "radialaxis": {
            "gridcolor": "white",
            "linecolor": "white",
            "ticks": ""
           }
          },
          "scene": {
           "xaxis": {
            "backgroundcolor": "#E5ECF6",
            "gridcolor": "white",
            "gridwidth": 2,
            "linecolor": "white",
            "showbackground": true,
            "ticks": "",
            "zerolinecolor": "white"
           },
           "yaxis": {
            "backgroundcolor": "#E5ECF6",
            "gridcolor": "white",
            "gridwidth": 2,
            "linecolor": "white",
            "showbackground": true,
            "ticks": "",
            "zerolinecolor": "white"
           },
           "zaxis": {
            "backgroundcolor": "#E5ECF6",
            "gridcolor": "white",
            "gridwidth": 2,
            "linecolor": "white",
            "showbackground": true,
            "ticks": "",
            "zerolinecolor": "white"
           }
          },
          "shapedefaults": {
           "line": {
            "color": "#2a3f5f"
           }
          },
          "ternary": {
           "aaxis": {
            "gridcolor": "white",
            "linecolor": "white",
            "ticks": ""
           },
           "baxis": {
            "gridcolor": "white",
            "linecolor": "white",
            "ticks": ""
           },
           "bgcolor": "#E5ECF6",
           "caxis": {
            "gridcolor": "white",
            "linecolor": "white",
            "ticks": ""
           }
          },
          "title": {
           "x": 0.05
          },
          "xaxis": {
           "automargin": true,
           "gridcolor": "white",
           "linecolor": "white",
           "ticks": "",
           "title": {
            "standoff": 15
           },
           "zerolinecolor": "white",
           "zerolinewidth": 2
          },
          "yaxis": {
           "automargin": true,
           "gridcolor": "white",
           "linecolor": "white",
           "ticks": "",
           "title": {
            "standoff": 15
           },
           "zerolinecolor": "white",
           "zerolinewidth": 2
          }
         }
        },
        "title": {
         "text": "Total Trips by Month and Gender"
        },
        "xaxis": {
         "categoryarray": [
          "January",
          "February",
          "March",
          "April",
          "May",
          "June",
          "July",
          "August",
          "September",
          "October",
          "November",
          "December"
         ],
         "categoryorder": "array",
         "title": {
          "text": "Month"
         }
        },
        "yaxis": {
         "title": {
          "text": "Total Trips"
         }
        }
       }
      }
     },
     "metadata": {},
     "output_type": "display_data"
    },
    {
     "data": {
      "application/vnd.plotly.v1+json": {
       "config": {
        "plotlyServerURL": "https://plot.ly"
       },
       "data": [
        {
         "name": "Female",
         "type": "bar",
         "x": [
          "Customer",
          "Subscriber"
         ],
         "y": {
          "bdata": "KFEBAJlhCgA=",
          "dtype": "i4"
         }
        },
        {
         "name": "Male",
         "type": "bar",
         "x": [
          "Customer",
          "Subscriber"
         ],
         "y": {
          "bdata": "gF8CAHJdHwA=",
          "dtype": "i4"
         }
        }
       ],
       "layout": {
        "barmode": "group",
        "template": {
         "data": {
          "bar": [
           {
            "error_x": {
             "color": "#2a3f5f"
            },
            "error_y": {
             "color": "#2a3f5f"
            },
            "marker": {
             "line": {
              "color": "#E5ECF6",
              "width": 0.5
             },
             "pattern": {
              "fillmode": "overlay",
              "size": 10,
              "solidity": 0.2
             }
            },
            "type": "bar"
           }
          ],
          "barpolar": [
           {
            "marker": {
             "line": {
              "color": "#E5ECF6",
              "width": 0.5
             },
             "pattern": {
              "fillmode": "overlay",
              "size": 10,
              "solidity": 0.2
             }
            },
            "type": "barpolar"
           }
          ],
          "carpet": [
           {
            "aaxis": {
             "endlinecolor": "#2a3f5f",
             "gridcolor": "white",
             "linecolor": "white",
             "minorgridcolor": "white",
             "startlinecolor": "#2a3f5f"
            },
            "baxis": {
             "endlinecolor": "#2a3f5f",
             "gridcolor": "white",
             "linecolor": "white",
             "minorgridcolor": "white",
             "startlinecolor": "#2a3f5f"
            },
            "type": "carpet"
           }
          ],
          "choropleth": [
           {
            "colorbar": {
             "outlinewidth": 0,
             "ticks": ""
            },
            "type": "choropleth"
           }
          ],
          "contour": [
           {
            "colorbar": {
             "outlinewidth": 0,
             "ticks": ""
            },
            "colorscale": [
             [
              0,
              "#0d0887"
             ],
             [
              0.1111111111111111,
              "#46039f"
             ],
             [
              0.2222222222222222,
              "#7201a8"
             ],
             [
              0.3333333333333333,
              "#9c179e"
             ],
             [
              0.4444444444444444,
              "#bd3786"
             ],
             [
              0.5555555555555556,
              "#d8576b"
             ],
             [
              0.6666666666666666,
              "#ed7953"
             ],
             [
              0.7777777777777778,
              "#fb9f3a"
             ],
             [
              0.8888888888888888,
              "#fdca26"
             ],
             [
              1,
              "#f0f921"
             ]
            ],
            "type": "contour"
           }
          ],
          "contourcarpet": [
           {
            "colorbar": {
             "outlinewidth": 0,
             "ticks": ""
            },
            "type": "contourcarpet"
           }
          ],
          "heatmap": [
           {
            "colorbar": {
             "outlinewidth": 0,
             "ticks": ""
            },
            "colorscale": [
             [
              0,
              "#0d0887"
             ],
             [
              0.1111111111111111,
              "#46039f"
             ],
             [
              0.2222222222222222,
              "#7201a8"
             ],
             [
              0.3333333333333333,
              "#9c179e"
             ],
             [
              0.4444444444444444,
              "#bd3786"
             ],
             [
              0.5555555555555556,
              "#d8576b"
             ],
             [
              0.6666666666666666,
              "#ed7953"
             ],
             [
              0.7777777777777778,
              "#fb9f3a"
             ],
             [
              0.8888888888888888,
              "#fdca26"
             ],
             [
              1,
              "#f0f921"
             ]
            ],
            "type": "heatmap"
           }
          ],
          "histogram": [
           {
            "marker": {
             "pattern": {
              "fillmode": "overlay",
              "size": 10,
              "solidity": 0.2
             }
            },
            "type": "histogram"
           }
          ],
          "histogram2d": [
           {
            "colorbar": {
             "outlinewidth": 0,
             "ticks": ""
            },
            "colorscale": [
             [
              0,
              "#0d0887"
             ],
             [
              0.1111111111111111,
              "#46039f"
             ],
             [
              0.2222222222222222,
              "#7201a8"
             ],
             [
              0.3333333333333333,
              "#9c179e"
             ],
             [
              0.4444444444444444,
              "#bd3786"
             ],
             [
              0.5555555555555556,
              "#d8576b"
             ],
             [
              0.6666666666666666,
              "#ed7953"
             ],
             [
              0.7777777777777778,
              "#fb9f3a"
             ],
             [
              0.8888888888888888,
              "#fdca26"
             ],
             [
              1,
              "#f0f921"
             ]
            ],
            "type": "histogram2d"
           }
          ],
          "histogram2dcontour": [
           {
            "colorbar": {
             "outlinewidth": 0,
             "ticks": ""
            },
            "colorscale": [
             [
              0,
              "#0d0887"
             ],
             [
              0.1111111111111111,
              "#46039f"
             ],
             [
              0.2222222222222222,
              "#7201a8"
             ],
             [
              0.3333333333333333,
              "#9c179e"
             ],
             [
              0.4444444444444444,
              "#bd3786"
             ],
             [
              0.5555555555555556,
              "#d8576b"
             ],
             [
              0.6666666666666666,
              "#ed7953"
             ],
             [
              0.7777777777777778,
              "#fb9f3a"
             ],
             [
              0.8888888888888888,
              "#fdca26"
             ],
             [
              1,
              "#f0f921"
             ]
            ],
            "type": "histogram2dcontour"
           }
          ],
          "mesh3d": [
           {
            "colorbar": {
             "outlinewidth": 0,
             "ticks": ""
            },
            "type": "mesh3d"
           }
          ],
          "parcoords": [
           {
            "line": {
             "colorbar": {
              "outlinewidth": 0,
              "ticks": ""
             }
            },
            "type": "parcoords"
           }
          ],
          "pie": [
           {
            "automargin": true,
            "type": "pie"
           }
          ],
          "scatter": [
           {
            "fillpattern": {
             "fillmode": "overlay",
             "size": 10,
             "solidity": 0.2
            },
            "type": "scatter"
           }
          ],
          "scatter3d": [
           {
            "line": {
             "colorbar": {
              "outlinewidth": 0,
              "ticks": ""
             }
            },
            "marker": {
             "colorbar": {
              "outlinewidth": 0,
              "ticks": ""
             }
            },
            "type": "scatter3d"
           }
          ],
          "scattercarpet": [
           {
            "marker": {
             "colorbar": {
              "outlinewidth": 0,
              "ticks": ""
             }
            },
            "type": "scattercarpet"
           }
          ],
          "scattergeo": [
           {
            "marker": {
             "colorbar": {
              "outlinewidth": 0,
              "ticks": ""
             }
            },
            "type": "scattergeo"
           }
          ],
          "scattergl": [
           {
            "marker": {
             "colorbar": {
              "outlinewidth": 0,
              "ticks": ""
             }
            },
            "type": "scattergl"
           }
          ],
          "scattermap": [
           {
            "marker": {
             "colorbar": {
              "outlinewidth": 0,
              "ticks": ""
             }
            },
            "type": "scattermap"
           }
          ],
          "scattermapbox": [
           {
            "marker": {
             "colorbar": {
              "outlinewidth": 0,
              "ticks": ""
             }
            },
            "type": "scattermapbox"
           }
          ],
          "scatterpolar": [
           {
            "marker": {
             "colorbar": {
              "outlinewidth": 0,
              "ticks": ""
             }
            },
            "type": "scatterpolar"
           }
          ],
          "scatterpolargl": [
           {
            "marker": {
             "colorbar": {
              "outlinewidth": 0,
              "ticks": ""
             }
            },
            "type": "scatterpolargl"
           }
          ],
          "scatterternary": [
           {
            "marker": {
             "colorbar": {
              "outlinewidth": 0,
              "ticks": ""
             }
            },
            "type": "scatterternary"
           }
          ],
          "surface": [
           {
            "colorbar": {
             "outlinewidth": 0,
             "ticks": ""
            },
            "colorscale": [
             [
              0,
              "#0d0887"
             ],
             [
              0.1111111111111111,
              "#46039f"
             ],
             [
              0.2222222222222222,
              "#7201a8"
             ],
             [
              0.3333333333333333,
              "#9c179e"
             ],
             [
              0.4444444444444444,
              "#bd3786"
             ],
             [
              0.5555555555555556,
              "#d8576b"
             ],
             [
              0.6666666666666666,
              "#ed7953"
             ],
             [
              0.7777777777777778,
              "#fb9f3a"
             ],
             [
              0.8888888888888888,
              "#fdca26"
             ],
             [
              1,
              "#f0f921"
             ]
            ],
            "type": "surface"
           }
          ],
          "table": [
           {
            "cells": {
             "fill": {
              "color": "#EBF0F8"
             },
             "line": {
              "color": "white"
             }
            },
            "header": {
             "fill": {
              "color": "#C8D4E3"
             },
             "line": {
              "color": "white"
             }
            },
            "type": "table"
           }
          ]
         },
         "layout": {
          "annotationdefaults": {
           "arrowcolor": "#2a3f5f",
           "arrowhead": 0,
           "arrowwidth": 1
          },
          "autotypenumbers": "strict",
          "coloraxis": {
           "colorbar": {
            "outlinewidth": 0,
            "ticks": ""
           }
          },
          "colorscale": {
           "diverging": [
            [
             0,
             "#8e0152"
            ],
            [
             0.1,
             "#c51b7d"
            ],
            [
             0.2,
             "#de77ae"
            ],
            [
             0.3,
             "#f1b6da"
            ],
            [
             0.4,
             "#fde0ef"
            ],
            [
             0.5,
             "#f7f7f7"
            ],
            [
             0.6,
             "#e6f5d0"
            ],
            [
             0.7,
             "#b8e186"
            ],
            [
             0.8,
             "#7fbc41"
            ],
            [
             0.9,
             "#4d9221"
            ],
            [
             1,
             "#276419"
            ]
           ],
           "sequential": [
            [
             0,
             "#0d0887"
            ],
            [
             0.1111111111111111,
             "#46039f"
            ],
            [
             0.2222222222222222,
             "#7201a8"
            ],
            [
             0.3333333333333333,
             "#9c179e"
            ],
            [
             0.4444444444444444,
             "#bd3786"
            ],
            [
             0.5555555555555556,
             "#d8576b"
            ],
            [
             0.6666666666666666,
             "#ed7953"
            ],
            [
             0.7777777777777778,
             "#fb9f3a"
            ],
            [
             0.8888888888888888,
             "#fdca26"
            ],
            [
             1,
             "#f0f921"
            ]
           ],
           "sequentialminus": [
            [
             0,
             "#0d0887"
            ],
            [
             0.1111111111111111,
             "#46039f"
            ],
            [
             0.2222222222222222,
             "#7201a8"
            ],
            [
             0.3333333333333333,
             "#9c179e"
            ],
            [
             0.4444444444444444,
             "#bd3786"
            ],
            [
             0.5555555555555556,
             "#d8576b"
            ],
            [
             0.6666666666666666,
             "#ed7953"
            ],
            [
             0.7777777777777778,
             "#fb9f3a"
            ],
            [
             0.8888888888888888,
             "#fdca26"
            ],
            [
             1,
             "#f0f921"
            ]
           ]
          },
          "colorway": [
           "#636efa",
           "#EF553B",
           "#00cc96",
           "#ab63fa",
           "#FFA15A",
           "#19d3f3",
           "#FF6692",
           "#B6E880",
           "#FF97FF",
           "#FECB52"
          ],
          "font": {
           "color": "#2a3f5f"
          },
          "geo": {
           "bgcolor": "white",
           "lakecolor": "white",
           "landcolor": "#E5ECF6",
           "showlakes": true,
           "showland": true,
           "subunitcolor": "white"
          },
          "hoverlabel": {
           "align": "left"
          },
          "hovermode": "closest",
          "mapbox": {
           "style": "light"
          },
          "paper_bgcolor": "white",
          "plot_bgcolor": "#E5ECF6",
          "polar": {
           "angularaxis": {
            "gridcolor": "white",
            "linecolor": "white",
            "ticks": ""
           },
           "bgcolor": "#E5ECF6",
           "radialaxis": {
            "gridcolor": "white",
            "linecolor": "white",
            "ticks": ""
           }
          },
          "scene": {
           "xaxis": {
            "backgroundcolor": "#E5ECF6",
            "gridcolor": "white",
            "gridwidth": 2,
            "linecolor": "white",
            "showbackground": true,
            "ticks": "",
            "zerolinecolor": "white"
           },
           "yaxis": {
            "backgroundcolor": "#E5ECF6",
            "gridcolor": "white",
            "gridwidth": 2,
            "linecolor": "white",
            "showbackground": true,
            "ticks": "",
            "zerolinecolor": "white"
           },
           "zaxis": {
            "backgroundcolor": "#E5ECF6",
            "gridcolor": "white",
            "gridwidth": 2,
            "linecolor": "white",
            "showbackground": true,
            "ticks": "",
            "zerolinecolor": "white"
           }
          },
          "shapedefaults": {
           "line": {
            "color": "#2a3f5f"
           }
          },
          "ternary": {
           "aaxis": {
            "gridcolor": "white",
            "linecolor": "white",
            "ticks": ""
           },
           "baxis": {
            "gridcolor": "white",
            "linecolor": "white",
            "ticks": ""
           },
           "bgcolor": "#E5ECF6",
           "caxis": {
            "gridcolor": "white",
            "linecolor": "white",
            "ticks": ""
           }
          },
          "title": {
           "x": 0.05
          },
          "xaxis": {
           "automargin": true,
           "gridcolor": "white",
           "linecolor": "white",
           "ticks": "",
           "title": {
            "standoff": 15
           },
           "zerolinecolor": "white",
           "zerolinewidth": 2
          },
          "yaxis": {
           "automargin": true,
           "gridcolor": "white",
           "linecolor": "white",
           "ticks": "",
           "title": {
            "standoff": 15
           },
           "zerolinecolor": "white",
           "zerolinewidth": 2
          }
         }
        },
        "title": {
         "text": "Total Trips by User Type and Gender"
        },
        "xaxis": {},
        "yaxis": {
         "title": {
          "text": "Total Trips"
         }
        }
       }
      }
     },
     "metadata": {},
     "output_type": "display_data"
    }
   ],
   "source": [
    "# ---\n",
    "# ### 9. Data Visualization\n",
    "# ---\n",
    "\n",
    "print(\"\\n--- Data Visualization ---\")\n",
    "\n",
    "def plot_grouped_bar(df, x_col, y_col, group_col, title, x_axis_label, y_axis_label, order=None):\n",
    "    \"\"\"\n",
    "    Generates a grouped bar chart using Plotly.\n",
    "\n",
    "    Args:\n",
    "        df (pd.DataFrame): The DataFrame containing the data.\n",
    "        x_col (str): Column name for the x-axis.\n",
    "        y_col (str): Column name for the y-axis (values to plot).\n",
    "        group_col (str): Column name to group the bars by (e.g., 'usertype', 'gender').\n",
    "        title (str): Title of the plot.\n",
    "        x_axis_label (str): Label for the x-axis.\n",
    "        y_axis_label (str): Label for the y-axis.\n",
    "        order (list, optional): A list specifying the desired order for the x-axis categories.\n",
    "                                If None, default sorting is used.\n",
    "    \"\"\"\n",
    "    fig = go.Figure()\n",
    "    unique_groups = df[group_col].unique()\n",
    "\n",
    "    # If an order is specified, convert the x_col to a categorical type\n",
    "    if order is not None:\n",
    "        df[x_col] = pd.Categorical(df[x_col], categories=order, ordered=True)\n",
    "        df = df.sort_values(x_col)\n",
    "\n",
    "    for group in unique_groups:\n",
    "        group_df = df[df[group_col] == group]\n",
    "        fig.add_trace(go.Bar(name=group, x=group_df[x_col], y=group_df[y_col]))\n",
    "\n",
    "    fig.update_layout(\n",
    "        title=title,\n",
    "        xaxis_title=x_axis_label,\n",
    "        yaxis_title=y_axis_label,\n",
    "        barmode='group',\n",
    "        xaxis={'categoryorder': 'array', 'categoryarray': order} if order else None # Ensure correct order\n",
    "    )\n",
    "    fig.show()\n",
    "\n",
    "# Define common order for days and months\n",
    "day_order = ['Monday', 'Tuesday', 'Wednesday', 'Thursday', 'Friday', 'Saturday', 'Sunday']\n",
    "month_order = ['January', 'February', 'March', 'April', 'May', 'June', 'July', 'August', 'September', 'October', 'November', 'December']\n",
    "\n",
    "# Total trips by Day of the Week and User Type\n",
    "daily_trip_counts = bike_trips_df.groupby(['usertype', 'day_of_week'])['trip_id'].count().reset_index()\n",
    "plot_grouped_bar(\n",
    "    daily_trip_counts, 'day_of_week', 'trip_id', 'usertype',\n",
    "    'Total Trips by Day of the Week and User Type', 'Day of the Week', 'Total Trips',\n",
    "    order=day_order\n",
    ")\n",
    "\n",
    "# Total trips by Month and User Type\n",
    "monthly_trip_counts = bike_trips_df.groupby(['usertype', 'month_name'])['trip_id'].count().reset_index()\n",
    "plot_grouped_bar(\n",
    "    monthly_trip_counts, 'month_name', 'trip_id', 'usertype',\n",
    "    'Total Trips by Month and User Type', 'Month', 'Total Trips',\n",
    "    order=month_order\n",
    ")\n",
    "\n",
    "# Total trips by Hour of the Day and User Type\n",
    "hourly_trip_counts = bike_trips_df.groupby(['usertype', 'start_hour'])['trip_id'].count().reset_index()\n",
    "plot_grouped_bar(\n",
    "    hourly_trip_counts, 'start_hour', 'trip_id', 'usertype',\n",
    "    'Total Trips by Hour of the Day and User Type', 'Hour of the Day', 'Total Trips'\n",
    ")\n",
    "\n",
    "# Total trips by Day of the Week and Gender\n",
    "daily_gender_counts = bike_trips_df.groupby(['gender', 'day_of_week'])['trip_id'].count().reset_index()\n",
    "plot_grouped_bar(\n",
    "    daily_gender_counts, 'day_of_week', 'trip_id', 'gender',\n",
    "    'Total Trips by Day of the Week and Gender', 'Day of the Week', 'Total Trips',\n",
    "    order=day_order\n",
    ")\n",
    "\n",
    "# Total trips by Month and Gender\n",
    "monthly_gender_counts = bike_trips_df.groupby(['gender', 'month_name'])['trip_id'].count().reset_index()\n",
    "plot_grouped_bar(\n",
    "    monthly_gender_counts, 'month_name', 'trip_id', 'gender',\n",
    "    'Total Trips by Month and Gender', 'Month', 'Total Trips',\n",
    "    order=month_order\n",
    ")\n",
    "\n",
    "# Total trips by User Type and Gender\n",
    "user_gender_counts = bike_trips_df.groupby(['usertype', 'gender'])['trip_id'].count().reset_index()\n",
    "plot_grouped_bar(\n",
    "    user_gender_counts, 'usertype', 'trip_id', 'gender',\n",
    "    'Total Trips by User Type and Gender', 'User Type', 'Total Trips'\n",
    ")"
   ]
  },
  {
   "cell_type": "code",
   "execution_count": 21,
   "id": "bf5d17fc",
   "metadata": {},
   "outputs": [
    {
     "name": "stdout",
     "output_type": "stream",
     "text": [
      "\n",
      "--- Station Analysis ---\n",
      "\n",
      "Top 5 Most Frequent Start Stations by User Type:\n",
      "                 from_station_name    usertype  trip_id\n",
      "171            Canal St & Adams St  Subscriber    47802\n",
      "302        Clinton St & Madison St  Subscriber    42900\n",
      "312   Clinton St & Washington Blvd  Subscriber    42374\n",
      "499        Franklin St & Monroe St  Subscriber    29294\n",
      "316      Columbus Dr & Randolph St  Subscriber    29273\n",
      "1105       Streeter Dr & Grand Ave    Customer     9885\n",
      "669      Lake Shore Dr & Monroe St    Customer     5801\n",
      "671     Lake Shore Dr & North Blvd    Customer     5054\n",
      "807          Michigan Ave & Oak St    Customer     4059\n",
      "1109           Theater on the Lake    Customer     3718\n",
      "\n",
      "Top 5 Most Frequent End Stations by User Type:\n",
      "                   to_station_name    usertype  trip_id\n",
      "172            Canal St & Adams St  Subscriber    45379\n",
      "314   Clinton St & Washington Blvd  Subscriber    45229\n",
      "304        Clinton St & Madison St  Subscriber    41896\n",
      "348             Daley Center Plaza  Subscriber    29000\n",
      "636       Kingsbury St & Kinzie St  Subscriber    28745\n",
      "1110       Streeter Dr & Grand Ave    Customer    11169\n",
      "671     Lake Shore Dr & North Blvd    Customer     6283\n",
      "1115           Theater on the Lake    Customer     4433\n",
      "808          Michigan Ave & Oak St    Customer     4361\n",
      "820                Millennium Park    Customer     4325\n",
      "\n",
      "Top 5 Most Frequent Start Stations by Gender:\n",
      "                 from_station_name  gender  trip_id\n",
      "172            Canal St & Adams St    Male    41320\n",
      "314   Clinton St & Washington Blvd    Male    37630\n",
      "304        Clinton St & Madison St    Male    36922\n",
      "318      Columbus Dr & Randolph St    Male    25758\n",
      "502        Franklin St & Monroe St    Male    25570\n",
      "1111       Streeter Dr & Grand Ave  Female     8210\n",
      "171            Canal St & Adams St  Female     7944\n",
      "303        Clinton St & Madison St  Female     7566\n",
      "348             Daley Center Plaza  Female     7109\n",
      "1115           Theater on the Lake  Female     7016\n",
      "\n",
      "Top 5 Most Frequent End Stations by Gender:\n",
      "                   to_station_name  gender  trip_id\n",
      "315   Clinton St & Washington Blvd    Male    40074\n",
      "173            Canal St & Adams St    Male    39760\n",
      "305        Clinton St & Madison St    Male    36224\n",
      "818   Michigan Ave & Washington St    Male    24368\n",
      "642       Kingsbury St & Kinzie St    Male    23782\n",
      "1113       Streeter Dr & Grand Ave  Female     8702\n",
      "677     Lake Shore Dr & North Blvd  Female     8388\n",
      "1118           Theater on the Lake  Female     7311\n",
      "1063        St. Clair St & Erie St  Female     7086\n",
      "304        Clinton St & Madison St  Female     6950\n"
     ]
    }
   ],
   "source": [
    "# ---\n",
    "# ### 10. Station Analysis\n",
    "# ---\n",
    "\n",
    "print(\"\\n--- Station Analysis ---\")\n",
    "\n",
    "def get_top_stations(df, group_col, station_col, top_n=5):\n",
    "    \"\"\"\n",
    "    Finds the top N most frequent stations (start or end) grouped by a specified column.\n",
    "\n",
    "    Args:\n",
    "        df (pd.DataFrame): The DataFrame containing trip data.\n",
    "        group_col (str): The column to group by (e.g., 'usertype', 'gender').\n",
    "        station_col (str): The station column to analyze ('from_station_name' or 'to_station_name').\n",
    "        top_n (int): The number of top stations to return for each group.\n",
    "\n",
    "    Returns:\n",
    "        pd.DataFrame: A DataFrame showing the top N stations for each group.\n",
    "    \"\"\"\n",
    "    station_counts = df.groupby([station_col, group_col])['trip_id'].count().reset_index()\n",
    "    station_counts_sorted = station_counts.sort_values(by=['trip_id'], ascending=False)\n",
    "    return station_counts_sorted.groupby(group_col).head(top_n)\n",
    "\n",
    "print(\"\\nTop 5 Most Frequent Start Stations by User Type:\")\n",
    "top_start_stations_user = get_top_stations(bike_trips_df, 'usertype', 'from_station_name')\n",
    "print(top_start_stations_user)\n",
    "\n",
    "print(\"\\nTop 5 Most Frequent End Stations by User Type:\")\n",
    "top_end_stations_user = get_top_stations(bike_trips_df, 'usertype', 'to_station_name')\n",
    "print(top_end_stations_user)\n",
    "\n",
    "print(\"\\nTop 5 Most Frequent Start Stations by Gender:\")\n",
    "top_start_stations_gender = get_top_stations(bike_trips_df, 'gender', 'from_station_name')\n",
    "print(top_start_stations_gender)\n",
    "\n",
    "print(\"\\nTop 5 Most Frequent End Stations by Gender:\")\n",
    "top_end_stations_gender = get_top_stations(bike_trips_df, 'gender', 'to_station_name')\n",
    "print(top_end_stations_gender)"
   ]
  },
  {
   "cell_type": "markdown",
   "id": "3fdc6374",
   "metadata": {},
   "source": [
    "# important Vizulizations\n",
    "## Number of ride per day of week"
   ]
  },
  {
   "cell_type": "code",
   "execution_count": 22,
   "id": "25cf3f24",
   "metadata": {},
   "outputs": [
    {
     "data": {
      "image/png": "[encoded data removed]",
      "text/plain": [
       "<Figure size 1000x600 with 1 Axes>"
      ]
     },
     "metadata": {},
     "output_type": "display_data"
    },
    {
     "name": "stdout",
     "output_type": "stream",
     "text": [
      "\n",
      "--- Distribution of User Types Visualization ---\n"
     ]
    },
    {
     "data": {
      "image/png": "[encoded data removed]",
      "text/plain": [
       "<Figure size 800x500 with 1 Axes>"
      ]
     },
     "metadata": {},
     "output_type": "display_data"
    }
   ],
   "source": [
    "# create daily_trip_counts\n",
    "daily_trip_counts = bike_trips_df.groupby(['usertype', 'day_of_week'])['trip_id'].count().reset_index()\n",
    "\n",
    "# Define the order of days for consistent plotting.\n",
    "day_order = ['Monday', 'Tuesday', 'Wednesday', 'Thursday', 'Friday', 'Saturday', 'Sunday']\n",
    "# Convert 'day_of_week' to a categorical type with the specified order and sort\n",
    "daily_trip_counts['day_of_week'] = pd.Categorical(daily_trip_counts['day_of_week'], categories=day_order, ordered=True)\n",
    "daily_trip_counts = daily_trip_counts.sort_values('day_of_week')\n",
    "# --- End of Dummy Data Creation ---\n",
    "\n",
    "\n",
    "# Filter the daily_trip_counts DataFrame for Customer and Subscriber data\n",
    "customer_daily_rides = daily_trip_counts[daily_trip_counts['usertype'] == 'Customer']\n",
    "subscriber_daily_rides = daily_trip_counts[daily_trip_counts['usertype'] == 'Subscriber']\n",
    "\n",
    "# Number of categories (days of the week)\n",
    "num_categories = len(customer_daily_rides) # Both customer and subscriber will have the same number of days\n",
    "\n",
    "# Position of bars on the x-axis\n",
    "x_positions = np.arange(num_categories)\n",
    "\n",
    "# Width of each bar\n",
    "bar_width = 0.45\n",
    "\n",
    "# Create the grouped bar chart using matplotlib\n",
    "fig, ax = plt.subplots(figsize=(10, 6)) # Set a larger figure size for better readability\n",
    "\n",
    "# Plot bars for Customers\n",
    "bar_customer = ax.bar(x_positions - bar_width/2, customer_daily_rides['trip_id'], bar_width, label=\"Customer\", color='steelblue') # Updated color\n",
    "\n",
    "# Plot bars for Subscribers\n",
    "bar_subscriber = ax.bar(x_positions + bar_width/2, subscriber_daily_rides['trip_id'], bar_width, label=\"Subscriber\", color='darkorange') # Updated color\n",
    "\n",
    "# Add legend to distinguish between user types\n",
    "ax.legend()\n",
    "\n",
    "# Add labels, title, and custom x-axis tick labels\n",
    "ax.set_xlabel('Day of the Week', fontsize=12) # Improved label\n",
    "ax.set_ylabel('Number of Trips', fontsize=12) # Improved label\n",
    "ax.set_title('Number of Trips per Day in 2019 by User Type', fontsize=14) # More descriptive title\n",
    "ax.set_xticks(x_positions)\n",
    "ax.set_xticklabels(customer_daily_rides['day_of_week'].values, rotation=45, ha='right') # Rotate and align labels\n",
    "\n",
    "# Function to add labels on top of each bar\n",
    "def add_bar_labels(bars):\n",
    "    \"\"\"\n",
    "    Adds numerical labels on top of each bar in a bar chart.\n",
    "\n",
    "    Args:\n",
    "        bars (matplotlib.container.BarContainer): The bars object returned by ax.bar().\n",
    "    \"\"\"\n",
    "    for bar in bars:\n",
    "        y_value = bar.get_height()  # Get the height of each bar\n",
    "        ax.text(bar.get_x() + bar.get_width()/2, y_value, int(y_value), # Display as integer for trip counts\n",
    "                ha='center', va='bottom', fontsize=9) # Adjust font size for better fit\n",
    "\n",
    "# Add labels to both sets of bars\n",
    "add_bar_labels(bar_customer)\n",
    "add_bar_labels(bar_subscriber)\n",
    "\n",
    "# Adjust layout to prevent labels from being cut off\n",
    "plt.tight_layout()\n",
    "plt.show()\n",
    "\n",
    "# --- New Visualization: Distribution of User Types ---\n",
    "print(\"\\n--- Distribution of User Types Visualization ---\")\n",
    "\n",
    "# Calculate the counts for each user type\n",
    "user_type_counts = bike_trips_df['usertype'].value_counts()\n",
    "\n",
    "# Create the bar chart for user type distribution\n",
    "fig, ax = plt.subplots(figsize=(8, 5)) # Adjust figure size as needed\n",
    "bars = ax.bar(user_type_counts.index, user_type_counts.values, color=['darkcyan', 'darkgoldenrod']) # Choose distinct colors\n",
    "\n",
    "# Format y-axis labels to show full numbers with commas\n",
    "ax.yaxis.set_major_formatter(mticker.FuncFormatter(lambda x, _: f'{int(x):,}'))\n",
    "\n",
    "# Set labels and title for the graph\n",
    "ax.set_xlabel('User Type', fontsize=12)\n",
    "ax.set_ylabel('Number of Users', fontsize=12)\n",
    "ax.set_title('Total Number of Users by Type in 2019', fontsize=14)\n",
    "\n",
    "# Add labels on top of each bar\n",
    "def add_value_labels(bars):\n",
    "    \"\"\"\n",
    "    Adds numerical labels on top of each bar in a bar chart, formatted with commas.\n",
    "\n",
    "    Args:\n",
    "        bars (matplotlib.container.BarContainer): The bars object returned by ax.bar().\n",
    "    \"\"\"\n",
    "    for bar in bars:\n",
    "        height = bar.get_height()\n",
    "        ax.text(bar.get_x() + bar.get_width()/2, height, f'{height:,}',\n",
    "                ha='center', va='bottom', fontsize=11, fontweight='bold', color='black')\n",
    "\n",
    "add_value_labels(bars)\n",
    "\n",
    "plt.tight_layout() # Adjust layout to prevent labels from being cut off\n",
    "plt.show()"
   ]
  },
  {
   "cell_type": "markdown",
   "id": "6a99ab70",
   "metadata": {},
   "source": [
    "## Percentage of user counts"
   ]
  },
  {
   "cell_type": "code",
   "execution_count": 23,
   "id": "81aa141e",
   "metadata": {},
   "outputs": [
    {
     "data": {
      "image/png": "[encoded data removed]",
      "text/plain": [
       "<Figure size 600x600 with 1 Axes>"
      ]
     },
     "metadata": {},
     "output_type": "display_data"
    }
   ],
   "source": [
    "# Count user types\n",
    "user_counts = bike_trips_df['usertype'].value_counts()\n",
    "\n",
    "# Plotting pie chart\n",
    "fig, ax = plt.subplots(figsize=(6, 6))\n",
    "ax.pie(user_counts.values, labels=user_counts.index, autopct='%1.1f%%', colors=['skyblue', 'orange'])\n",
    "ax.legend()\n",
    "ax.set_title('Percentage of User Count')\n",
    "plt.show()\n",
    "\n"
   ]
  },
  {
   "cell_type": "markdown",
   "id": "5ab3827a",
   "metadata": {},
   "source": [
    "# Age distributions of our customers"
   ]
  },
  {
   "cell_type": "code",
   "execution_count": 24,
   "id": "695d9f35",
   "metadata": {},
   "outputs": [
    {
     "data": {
      "image/png": "[encoded data removed]",
      "text/plain": [
       "<Figure size 800x700 with 1 Axes>"
      ]
     },
     "metadata": {},
     "output_type": "display_data"
    }
   ],
   "source": [
    "# Define bins and labels\n",
    "bins = [18, 25, 30, 35, 40, 45, 50, 55, 60]\n",
    "labels = ['18–24', '25–29', '30–34', '35–39', '40–44', '45–49', '50–54', '55–60']\n",
    "\n",
    "# Create age group column\n",
    "bike_trips_df['age_group'] = pd.cut(bike_trips_df['age'], bins=bins, labels=labels, right=False)\n",
    "\n",
    "# Count age group frequencies\n",
    "age_group_counts = bike_trips_df['age_group'].value_counts().sort_index()\n",
    "\n",
    "# Plotting the chart\n",
    "fig, ax = plt.subplots(figsize=(8, 7))\n",
    "bars = age_group_counts.plot(kind='bar', color='skyblue', edgecolor='black', ax=ax)\n",
    "\n",
    "# Customize chart\n",
    "ax.set_title('Age Distribution of Bike-Share Riders (Ages 18–60)')\n",
    "ax.set_xlabel('Age Group')\n",
    "ax.set_ylabel('Number of Riders')\n",
    "ax.set_xticklabels(labels, rotation=45)\n",
    "\n",
    "# Add labels on top of each bar\n",
    "for bar in bars.patches:\n",
    "    height = bar.get_height()\n",
    "    ax.annotate(f'{int(height)}',\n",
    "                xy=(bar.get_x() + bar.get_width() / 2, height),\n",
    "                xytext=(0, 5),  # Offset above the bar\n",
    "                textcoords='offset points',\n",
    "                ha='center', va='bottom', fontsize=9)\n",
    "\n",
    "plt.tight_layout()\n",
    "plt.show()\n"
   ]
  },
  {
   "cell_type": "markdown",
   "id": "1f859e28",
   "metadata": {},
   "source": [
    "## Vizulization of number of riders per month"
   ]
  },
  {
   "cell_type": "code",
   "execution_count": 25,
   "id": "8a8345e1",
   "metadata": {},
   "outputs": [
    {
     "name": "stderr",
     "output_type": "stream",
     "text": [
      "C:\\Users\\admin\\AppData\\Local\\Temp\\ipykernel_3880\\750595118.py:12: FutureWarning:\n",
      "\n",
      "The default of observed=False is deprecated and will be changed to True in a future version of pandas. Pass observed=False to retain current behavior or observed=True to adopt the future default and silence this warning.\n",
      "\n"
     ]
    },
    {
     "data": {
      "image/png": "[encoded data removed]",
      "text/plain": [
       "<Figure size 900x600 with 1 Axes>"
      ]
     },
     "metadata": {},
     "output_type": "display_data"
    }
   ],
   "source": [
    "# Define full month name order\n",
    "month_order = ['January', 'February', 'March', 'April', 'May', 'June',\n",
    "               'July', 'August', 'September', 'October', 'November', 'December']\n",
    "\n",
    "# Ensure 'month' values are capitalized correctly\n",
    "bike_trips_df['months'] = bike_trips_df['month_name'].str.title()\n",
    "\n",
    "# Set 'month' as ordered categorical type\n",
    "bike_trips_df['months'] = pd.Categorical(bike_trips_df['months'], categories=month_order, ordered=True)\n",
    "\n",
    "# Group by full month name and user type\n",
    "user_by_month_type = bike_trips_df.groupby(['months', 'usertype']).size().unstack().reindex(month_order)\n",
    "\n",
    "# Plotting grouped bar chart\n",
    "fig, ax = plt.subplots(figsize=(9, 6))\n",
    "bar_width = 0.35\n",
    "x = range(len(user_by_month_type))\n",
    "\n",
    "# Bar plots for Customer and Subscriber\n",
    "ax.bar([i - bar_width/2 for i in x], user_by_month_type['Customer'],\n",
    "       width=bar_width, label='Customer', color='skyblue')\n",
    "ax.bar([i + bar_width/2 for i in x], user_by_month_type['Subscriber'],\n",
    "       width=bar_width, label='Subscriber', color='orange')\n",
    "\n",
    "# Line plot for total\n",
    "user_by_month_total = user_by_month_type.sum(axis=1)\n",
    "ax.plot(x, user_by_month_total, marker='o', color='red', linestyle='--', label='Total')\n",
    "\n",
    "# Axis labels and title\n",
    "ax.set_xlabel('Months')\n",
    "ax.set_ylabel('No. of Trips')\n",
    "ax.set_title('Number of Trips by Month and User Type')\n",
    "ax.set_xticks(x)\n",
    "ax.set_xticklabels(user_by_month_type.index, rotation=45)\n",
    "\n",
    "# Annotate bars\n",
    "for i in x:\n",
    "    ax.text(i - bar_width/2, user_by_month_type['Customer'].iloc[i] + 10,\n",
    "            f\"{user_by_month_type['Customer'].iloc[i]:,}\", ha='center', fontsize=8)\n",
    "    ax.text(i + bar_width/2, user_by_month_type['Subscriber'].iloc[i] + 10,\n",
    "            f\"{user_by_month_type['Subscriber'].iloc[i]:,}\", ha='center', fontsize=8)\n",
    "\n",
    "ax.legend()\n",
    "plt.tight_layout()\n",
    "plt.show()\n"
   ]
  },
  {
   "cell_type": "markdown",
   "id": "0afb78b8",
   "metadata": {},
   "source": [
    "### vizulization of no of ride per hour"
   ]
  },
  {
   "cell_type": "code",
   "execution_count": 26,
   "id": "0f7e0f82",
   "metadata": {},
   "outputs": [
    {
     "data": {
      "image/png": "[encoded data removed]",
      "text/plain": [
       "<Figure size 900x600 with 1 Axes>"
      ]
     },
     "metadata": {},
     "output_type": "display_data"
    }
   ],
   "source": [
    "# Create 'hour' column from start_time\n",
    "bike_trips_df['hour'] = bike_trips_df['start_time'].dt.hour\n",
    "\n",
    "# Group by hour and usertype\n",
    "rides_by_hour_type = bike_trips_df.groupby(['hour', 'usertype']).size().unstack().fillna(0)\n",
    "\n",
    "# Plot setup\n",
    "fig, ax = plt.subplots(figsize=(9, 6))\n",
    "\n",
    "# Custom line styles and colors\n",
    "ax.plot(rides_by_hour_type.index, rides_by_hour_type['Customer'], \n",
    "        label='Customer', marker='o', color='blue', linestyle='--', linewidth=2)\n",
    "\n",
    "ax.plot(rides_by_hour_type.index, rides_by_hour_type['Subscriber'], \n",
    "        label='Subscriber', marker='s', color='darkorange', linestyle='-', linewidth=2)\n",
    "\n",
    "# Shaded commute times\n",
    "ax.axvspan(7, 9, color='lightgrey', alpha=0.3, label='Morning Commute')\n",
    "ax.axvspan(16, 18, color='lightblue', alpha=0.2, label='Evening Commute')\n",
    "\n",
    "# Highlight peak hour\n",
    "peak_hour = rides_by_hour_type.sum(axis=1).idxmax()\n",
    "ax.axvline(x=peak_hour, color='red', linestyle=':', linewidth=2, label=f'Peak Hour ({peak_hour}:00)')\n",
    "\n",
    "# Formatting\n",
    "ax.set_title('Number of Rides by Hour of Day and User Type', fontsize=14)\n",
    "ax.set_xlabel('Hour of Day', fontsize=12)\n",
    "ax.set_ylabel('Number of Rides', fontsize=12)\n",
    "ax.set_xticks(range(24))\n",
    "ax.set_xticklabels([f'{h}:00' for h in range(24)], rotation=45)\n",
    "ax.grid(True, linestyle='--', alpha=0.5)\n",
    "ax.legend()\n",
    "plt.tight_layout()\n",
    "plt.show()\n"
   ]
  },
  {
   "cell_type": "code",
   "execution_count": null,
   "id": "a1e659e6",
   "metadata": {},
   "outputs": [],
   "source": []
  }
 ],
 "metadata": {
  "kernelspec": {
   "display_name": "Python 3",
   "language": "python",
   "name": "python3"
  },
  "language_info": {
   "codemirror_mode": {
    "name": "ipython",
    "version": 3
   },
   "file_extension": ".py",
   "mimetype": "text/x-python",
   "name": "python",
   "nbconvert_exporter": "python",
   "pygments_lexer": "ipython3",
   "version": "3.13.1"
  }
 },
 "nbformat": 4,
 "nbformat_minor": 5
}
